{
  "nbformat": 4,
  "nbformat_minor": 0,
  "metadata": {
    "colab": {
      "name": "Lung Tester.ipynb",
      "provenance": [],
      "collapsed_sections": []
    },
    "kernelspec": {
      "name": "python3",
      "display_name": "Python 3"
    }
  },
  "cells": [
    {
      "cell_type": "code",
      "metadata": {
        "id": "RstQgAkWdSRJ"
      },
      "source": [
        "#import os\n",
        "#os.environ['KAGGLE_CONFIG_DIR'] = \"/content/gdrive/My Drive/Kaggle\"\n",
        "# /content/gdrive/My Drive/Kaggle is the path where kaggle.json is present in the Google Drive"
      ],
      "execution_count": 2,
      "outputs": []
    },
    {
      "cell_type": "code",
      "metadata": {
        "id": "1kidiQoPY1UT"
      },
      "source": [
        "#%cd /content/gdrive/My Drive/Kaggle"
      ],
      "execution_count": 3,
      "outputs": []
    },
    {
      "cell_type": "code",
      "metadata": {
        "id": "jHQCuLKrdwvf"
      },
      "source": [
        "\n",
        "#!kaggle datasets download -d praveengovi/coronahack-chest-xraydataset"
      ],
      "execution_count": 4,
      "outputs": []
    },
    {
      "cell_type": "code",
      "metadata": {
        "id": "858zt1fgoXaa"
      },
      "source": [
        "#unzipping the zip files and deleting the zip files\n",
        "#!unzip \\*.zip  && rm *.zip "
      ],
      "execution_count": 5,
      "outputs": []
    },
    {
      "cell_type": "code",
      "metadata": {
        "id": "NXMgP4Fdewv4"
      },
      "source": [
        "import pandas as pd\n",
        "import numpy as np\n",
        "import tensorflow as tf\n",
        "from tensorflow.python import keras\n",
        "from keras import backend as K\n",
        "from keras import layers\n",
        "from tensorflow.keras.models import Sequential\n",
        "from tensorflow.keras.models import Model\n",
        "from keras.optimizers import Adam\n",
        "from keras.preprocessing.image import ImageDataGenerator\n",
        "from sklearn.metrics import classification_report, confusion_matrix\n",
        "from mlxtend.plotting import plot_confusion_matrix\n",
        "import matplotlib.pyplot as plt"
      ],
      "execution_count": 6,
      "outputs": []
    },
    {
      "cell_type": "code",
      "metadata": {
        "id": "3z12eqhUlemS",
        "colab": {
          "base_uri": "https://localhost:8080/"
        },
        "outputId": "bfd14cc1-7a55-44f5-e6ab-5dd7e436b3b3"
      },
      "source": [
        "import os\n",
        "print(os.listdir(\"/content/gdrive/My Drive/Kaggle/Coronahack-Chest-XRay-Dataset\"))\n"
      ],
      "execution_count": 7,
      "outputs": [
        {
          "output_type": "stream",
          "text": [
            "['Coronahack-Chest-XRay-Dataset']\n"
          ],
          "name": "stdout"
        }
      ]
    },
    {
      "cell_type": "code",
      "metadata": {
        "id": "-MIyTS5isDRg",
        "colab": {
          "base_uri": "https://localhost:8080/"
        },
        "outputId": "d29df81c-7884-4955-8800-69379dfe42aa"
      },
      "source": [
        "# Detect hardware, return appropriate distribution strategy\n",
        "try:\n",
        "    tpu = tf.distribute.cluster_resolver.TPUClusterResolver() \n",
        "    print('Running on TPU ', tpu.master())\n",
        "except ValueError:\n",
        "    tpu = None\n",
        "\n",
        "if tpu:\n",
        "    tf.config.experimental_connect_to_cluster(tpu)\n",
        "    tf.tpu.experimental.initialize_tpu_system(tpu)\n",
        "    strategy = tf.distribute.experimental.TPUStrategy(tpu)\n",
        "else:\n",
        "    strategy = tf.distribute.get_strategy() # default distribution strategy in Tensorflow. Works on CPU and single GPU.\n",
        "\n",
        "print(\"REPLICAS: \", strategy.num_replicas_in_sync)"
      ],
      "execution_count": 8,
      "outputs": [
        {
          "output_type": "stream",
          "text": [
            "REPLICAS:  1\n"
          ],
          "name": "stdout"
        }
      ]
    },
    {
      "cell_type": "code",
      "metadata": {
        "id": "e1RIVZ40uqvo",
        "colab": {
          "base_uri": "https://localhost:8080/"
        },
        "outputId": "68c44a54-08e7-40ab-9c08-a3855bc29e34"
      },
      "source": [
        "print(os.listdir(\"/content/gdrive/My Drive/Kaggle/corona_check/train/Normal\"))\n",
        "print(os.listdir(\"/content/gdrive/My Drive/Kaggle/corona_check/test/Normal\"))"
      ],
      "execution_count": 9,
      "outputs": [
        {
          "output_type": "stream",
          "text": [
            "['IM-0575-0001.jpeg', 'IM-0574-0001.jpeg', 'IM-0571-0001.jpeg', 'IM-0570-0001.jpeg', 'IM-0569-0001.jpeg', 'IM-0568-0001.jpeg', 'IM-0566-0001.jpeg', 'IM-0565-0001.jpeg', 'IM-0564-0001.jpeg', 'IM-0563-0001.jpeg', 'IM-0562-0001.jpeg', 'IM-0561-0001.jpeg', 'IM-0560-0001.jpeg', 'IM-0559-0001.jpeg', 'IM-0557-0001.jpeg', 'IM-0556-0001.jpeg', 'IM-0555-0001.jpeg', 'IM-0555-0001-0002.jpeg', 'IM-0555-0001-0001.jpeg', 'IM-0554-0001.jpeg', 'IM-0553-0001.jpeg', 'IM-0553-0001-0003.jpeg', 'IM-0553-0001-0002.jpeg', 'IM-0553-0001-0001.jpeg', 'IM-0552-0001.jpeg', 'IM-0551-0001.jpeg', 'IM-0551-0001-0002.jpeg', 'IM-0618-0001.jpeg', 'IM-0618-0001-0002.jpeg', 'IM-0618-0001-0001.jpeg', 'IM-0617-0001.jpeg', 'IM-0616-0001.jpeg', 'IM-0615-0001.jpeg', 'IM-0614-0001.jpeg', 'IM-0613-0001.jpeg', 'IM-0612-0001.jpeg', 'IM-0612-0001-0002.jpeg', 'IM-0612-0001-0001.jpeg', 'IM-0609-0001.jpeg', 'IM-0608-0001.jpeg', 'IM-0608-0001-0002.jpeg', 'IM-0608-0001-0001.jpeg', 'IM-0607-0001.jpeg', 'IM-0606-0001.jpeg', 'IM-0605-0001.jpeg', 'IM-0604-0001.jpeg', 'IM-0602-0001.jpeg', 'IM-0601-0001.jpeg', 'IM-0600-0001.jpeg', 'IM-0599-0001.jpeg', 'IM-0598-0001.jpeg', 'IM-0596-0001.jpeg', 'IM-0595-0001.jpeg', 'IM-0593-0001.jpeg', 'IM-0592-0001.jpeg', 'IM-0591-0001.jpeg', 'IM-0590-0001.jpeg', 'IM-0588-0001.jpeg', 'IM-0586-0001.jpeg', 'IM-0584-0001.jpeg', 'IM-0583-0001.jpeg', 'IM-0582-0001.jpeg', 'IM-0641-0001.jpeg', 'IM-0640-0001.jpeg', 'IM-0640-0001-0002.jpeg', 'IM-0640-0001-0001.jpeg', 'IM-0637-0001.jpeg', 'IM-0636-0001.jpeg', 'IM-0635-0001.jpeg', 'IM-0634-0001.jpeg', 'IM-0633-0001.jpeg', 'IM-0632-0001.jpeg', 'IM-0631-0001.jpeg', 'IM-0631-0001-0002.jpeg', 'IM-0631-0001-0001.jpeg', 'IM-0630-0001.jpeg', 'IM-0629-0001.jpeg', 'IM-0629-0001-0003.jpeg', 'IM-0629-0001-0002.jpeg', 'IM-0629-0001-0001.jpeg', 'IM-0628-0001.jpeg', 'IM-0627-0001.jpeg', 'IM-0626-0001-0002.jpeg', 'IM-0626-0001-0001.jpeg', 'IM-0625-0001.jpeg', 'IM-0624-0001.jpeg', 'IM-0624-0001-0002.jpeg', 'IM-0623-0001.jpeg', 'IM-0622-0001.jpeg', 'IM-0622-0001-0002.jpeg', 'IM-0622-0001-0001.jpeg', 'IM-0621-0001.jpeg', 'IM-0620-0001.jpeg', 'IM-0620-0001-0002.jpeg', 'IM-0620-0001-0001.jpeg', 'IM-0619-0001.jpeg', 'IM-0666-0001-0002.jpeg', 'IM-0666-0001-0001.jpeg', 'IM-0665-0001.jpeg', 'IM-0664-0001.jpeg', 'IM-0663-0001.jpeg', 'IM-0662-0001.jpeg', 'IM-0661-0001.jpeg', 'IM-0660-0001.jpeg', 'IM-0660-0001-0002.jpeg', 'IM-0660-0001-0001.jpeg', 'IM-0659-0001.jpeg', 'IM-0658-0001.jpeg', 'IM-0657-0001.jpeg', 'IM-0656-0001.jpeg', 'IM-0656-0001-0002.jpeg', 'IM-0656-0001-0001.jpeg', 'IM-0655-0001.jpeg', 'IM-0654-0001.jpeg', 'IM-0652-0001.jpeg', 'IM-0652-0001-0002.jpeg', 'IM-0651-0001.jpeg', 'IM-0650-0001.jpeg', 'IM-0650-0001-0002.jpeg', 'IM-0650-0001-0001.jpeg', 'IM-0649-0001.jpeg', 'IM-0648-0001.jpeg', 'IM-0647-0001.jpeg', 'IM-0646-0001.jpeg', 'IM-0645-0001.jpeg', 'IM-0644-0001.jpeg', 'IM-0644-0001-0002.jpeg', 'IM-0644-0001-0001.jpeg', 'IM-0643-0001.jpeg', 'IM-0642-0001.jpeg', 'IM-0698-0001.jpeg', 'IM-0697-0001.jpeg', 'IM-0696-0001.jpeg', 'IM-0695-0001.jpeg', 'IM-0694-0001.jpeg', 'IM-0693-0001.jpeg', 'IM-0692-0001.jpeg', 'IM-0691-0001.jpeg', 'IM-0689-0001.jpeg', 'IM-0688-0001.jpeg', 'IM-0687-0001.jpeg', 'IM-0686-0001.jpeg', 'IM-0685-0001.jpeg', 'IM-0684-0001.jpeg', 'IM-0683-0001.jpeg', 'IM-0682-0001.jpeg', 'IM-0681-0001.jpeg', 'IM-0680-0001.jpeg', 'IM-0679-0001.jpeg', 'IM-0678-0001.jpeg', 'IM-0677-0001.jpeg', 'IM-0676-0001.jpeg', 'IM-0675-0001.jpeg', 'IM-0674-0001.jpeg', 'IM-0673-0001.jpeg', 'IM-0672-0001.jpeg', 'IM-0671-0001.jpeg', 'IM-0670-0001.jpeg', 'IM-0669-0001.jpeg', 'IM-0668-0001.jpeg', 'IM-0667-0001.jpeg', 'IM-0666-0001.jpeg', 'IM-0740-0001.jpeg', 'IM-0739-0001.jpeg', 'IM-0738-0001.jpeg', 'IM-0737-0001.jpeg', 'IM-0736-0001.jpeg', 'IM-0735-0001.jpeg', 'IM-0734-0001.jpeg', 'IM-0733-0001.jpeg', 'IM-0732-0001.jpeg', 'IM-0730-0001.jpeg', 'IM-0729-0001.jpeg', 'IM-0728-0001.jpeg', 'IM-0727-0001.jpeg', 'IM-0724-0001.jpeg', 'IM-0722-0001.jpeg', 'IM-0721-0001.jpeg', 'IM-0719-0001.jpeg', 'IM-0718-0001.jpeg', 'IM-0717-0001.jpeg', 'IM-0716-0001.jpeg', 'IM-0715-0001.jpeg', 'IM-0714-0001.jpeg', 'IM-0713-0001.jpeg', 'IM-0712-0001.jpeg', 'IM-0711-0001.jpeg', 'IM-0710-0001.jpeg', 'IM-0709-0001.jpeg', 'IM-0707-0001.jpeg', 'IM-0706-0001.jpeg', 'IM-0705-0001.jpeg', 'IM-0704-0001.jpeg', 'IM-0703-0001.jpeg', 'IM-0702-0001.jpeg', 'IM-0701-0001.jpeg', 'IM-0700-0001.jpeg', 'NORMAL2-IM-0406-0001.jpeg', 'NORMAL2-IM-0404-0001.jpeg', 'NORMAL2-IM-0403-0001.jpeg', 'NORMAL2-IM-0402-0001.jpeg', 'NORMAL2-IM-0401-0001.jpeg', 'NORMAL2-IM-0399-0001.jpeg', 'NORMAL2-IM-0397-0001.jpeg', 'NORMAL2-IM-0396-0001.jpeg', 'NORMAL2-IM-0395-0001.jpeg', 'NORMAL2-IM-0395-0001-0002.jpeg', 'NORMAL2-IM-0395-0001-0001.jpeg', 'NORMAL2-IM-0394-0001.jpeg', 'NORMAL2-IM-0393-0001.jpeg', 'NORMAL2-IM-0392-0001.jpeg', 'NORMAL2-IM-0391-0001.jpeg', 'NORMAL2-IM-0390-0001.jpeg', 'NORMAL2-IM-0389-0001.jpeg', 'NORMAL2-IM-0388-0001.jpeg', 'NORMAL2-IM-0386-0001.jpeg', 'NORMAL2-IM-0385-0001.jpeg', 'NORMAL2-IM-0384-0001.jpeg', 'NORMAL2-IM-0383-0001.jpeg', 'IM-0766-0001.jpeg', 'IM-0764-0001.jpeg', 'IM-0761-0001.jpeg', 'IM-0757-0001.jpeg', 'IM-0755-0001.jpeg', 'IM-0754-0001.jpeg', 'IM-0753-0001.jpeg', 'IM-0752-0001.jpeg', 'IM-0751-0001.jpeg', 'IM-0750-0001.jpeg', 'IM-0748-0001.jpeg', 'IM-0747-0001.jpeg', 'IM-0746-0001.jpeg', 'IM-0742-0001.jpeg', 'IM-0741-0001.jpeg', 'NORMAL2-IM-0441-0001.jpeg', 'NORMAL2-IM-0440-0001.jpeg', 'NORMAL2-IM-0439-0001.jpeg', 'NORMAL2-IM-0437-0001.jpeg', 'NORMAL2-IM-0435-0001.jpeg', 'NORMAL2-IM-0433-0001.jpeg', 'NORMAL2-IM-0429-0001.jpeg', 'NORMAL2-IM-0428-0001.jpeg', 'NORMAL2-IM-0427-0001.jpeg', 'NORMAL2-IM-0425-0001.jpeg', 'NORMAL2-IM-0424-0001.jpeg', 'NORMAL2-IM-0423-0001.jpeg', 'NORMAL2-IM-0421-0001.jpeg', 'NORMAL2-IM-0419-0001.jpeg', 'NORMAL2-IM-0418-0001.jpeg', 'NORMAL2-IM-0417-0001.jpeg', 'NORMAL2-IM-0416-0001.jpeg', 'NORMAL2-IM-0416-0001-0002.jpeg', 'NORMAL2-IM-0416-0001-0001.jpeg', 'NORMAL2-IM-0415-0001.jpeg', 'NORMAL2-IM-0414-0001.jpeg', 'NORMAL2-IM-0413-0001.jpeg', 'NORMAL2-IM-0412-0001.jpeg', 'NORMAL2-IM-0410-0001.jpeg', 'NORMAL2-IM-0409-0001.jpeg', 'NORMAL2-IM-0408-0001.jpeg', 'NORMAL2-IM-0407-0001.jpeg', 'NORMAL2-IM-0489-0001.jpeg', 'NORMAL2-IM-0488-0001.jpeg', 'NORMAL2-IM-0487-0001.jpeg', 'NORMAL2-IM-0486-0001.jpeg', 'NORMAL2-IM-0485-0001.jpeg', 'NORMAL2-IM-0482-0001.jpeg', 'NORMAL2-IM-0481-0001.jpeg', 'NORMAL2-IM-0480-0001.jpeg', 'NORMAL2-IM-0479-0001.jpeg', 'NORMAL2-IM-0478-0001.jpeg', 'NORMAL2-IM-0476-0001.jpeg', 'NORMAL2-IM-0475-0001.jpeg', 'NORMAL2-IM-0474-0001.jpeg', 'NORMAL2-IM-0473-0001.jpeg', 'NORMAL2-IM-0472-0001.jpeg', 'NORMAL2-IM-0468-0001.jpeg', 'NORMAL2-IM-0466-0001.jpeg', 'NORMAL2-IM-0465-0001.jpeg', 'NORMAL2-IM-0464-0001.jpeg', 'NORMAL2-IM-0463-0001.jpeg', 'NORMAL2-IM-0462-0001.jpeg', 'NORMAL2-IM-0460-0001.jpeg', 'NORMAL2-IM-0458-0001.jpeg', 'NORMAL2-IM-0456-0001.jpeg', 'NORMAL2-IM-0455-0001.jpeg', 'NORMAL2-IM-0454-0001.jpeg', 'NORMAL2-IM-0453-0001.jpeg', 'NORMAL2-IM-0452-0001.jpeg', 'NORMAL2-IM-0451-0001.jpeg', 'NORMAL2-IM-0450-0001.jpeg', 'NORMAL2-IM-0449-0001.jpeg', 'NORMAL2-IM-0448-0001.jpeg', 'NORMAL2-IM-0447-0001.jpeg', 'NORMAL2-IM-0445-0001.jpeg', 'NORMAL2-IM-0443-0001.jpeg', 'NORMAL2-IM-0533-0001.jpeg', 'NORMAL2-IM-0531-0001.jpeg', 'NORMAL2-IM-0530-0001.jpeg', 'NORMAL2-IM-0529-0001.jpeg', 'NORMAL2-IM-0528-0001.jpeg', 'NORMAL2-IM-0526-0001.jpeg', 'NORMAL2-IM-0525-0001.jpeg', 'NORMAL2-IM-0523-0001.jpeg', 'NORMAL2-IM-0522-0001.jpeg', 'NORMAL2-IM-0521-0001.jpeg', 'NORMAL2-IM-0520-0001.jpeg', 'NORMAL2-IM-0518-0001.jpeg', 'NORMAL2-IM-0517-0001.jpeg', 'NORMAL2-IM-0516-0001.jpeg', 'NORMAL2-IM-0515-0001.jpeg', 'NORMAL2-IM-0513-0001.jpeg', 'NORMAL2-IM-0512-0001.jpeg', 'NORMAL2-IM-0511-0001.jpeg', 'NORMAL2-IM-0509-0001.jpeg', 'NORMAL2-IM-0508-0001.jpeg', 'NORMAL2-IM-0507-0001.jpeg', 'NORMAL2-IM-0506-0001.jpeg', 'NORMAL2-IM-0503-0001.jpeg', 'NORMAL2-IM-0502-0001.jpeg', 'NORMAL2-IM-0501-0001.jpeg', 'NORMAL2-IM-0500-0001.jpeg', 'NORMAL2-IM-0499-0001.jpeg', 'NORMAL2-IM-0497-0001.jpeg', 'NORMAL2-IM-0496-0001.jpeg', 'NORMAL2-IM-0493-0001.jpeg', 'NORMAL2-IM-0491-0001.jpeg', 'NORMAL2-IM-0490-0001.jpeg', 'NORMAL2-IM-0572-0001.jpeg', 'NORMAL2-IM-0571-0001.jpeg', 'NORMAL2-IM-0569-0001.jpeg', 'NORMAL2-IM-0568-0001.jpeg', 'NORMAL2-IM-0567-0001.jpeg', 'NORMAL2-IM-0566-0001.jpeg', 'NORMAL2-IM-0564-0001.jpeg', 'NORMAL2-IM-0563-0001.jpeg', 'NORMAL2-IM-0561-0001.jpeg', 'NORMAL2-IM-0559-0001.jpeg', 'NORMAL2-IM-0558-0001.jpeg', 'NORMAL2-IM-0557-0001.jpeg', 'NORMAL2-IM-0555-0001.jpeg', 'NORMAL2-IM-0555-0001-0002.jpeg', 'NORMAL2-IM-0555-0001-0001.jpeg', 'NORMAL2-IM-0554-0001.jpeg', 'NORMAL2-IM-0553-0001.jpeg', 'NORMAL2-IM-0552-0001.jpeg', 'NORMAL2-IM-0551-0001.jpeg', 'NORMAL2-IM-0550-0001.jpeg', 'NORMAL2-IM-0547-0001.jpeg', 'NORMAL2-IM-0545-0001.jpeg', 'NORMAL2-IM-0543-0001.jpeg', 'NORMAL2-IM-0541-0001.jpeg', 'NORMAL2-IM-0540-0001.jpeg', 'NORMAL2-IM-0539-0001.jpeg', 'NORMAL2-IM-0537-0001.jpeg', 'NORMAL2-IM-0536-0001.jpeg', 'NORMAL2-IM-0535-0001.jpeg', 'NORMAL2-IM-0535-0001-0002.jpeg', 'NORMAL2-IM-0603-0001.jpeg', 'NORMAL2-IM-0602-0001.jpeg', 'NORMAL2-IM-0601-0001.jpeg', 'NORMAL2-IM-0600-0001.jpeg', 'NORMAL2-IM-0599-0001.jpeg', 'NORMAL2-IM-0596-0001.jpeg', 'NORMAL2-IM-0595-0001.jpeg', 'NORMAL2-IM-0594-0001.jpeg', 'NORMAL2-IM-0592-0001.jpeg', 'NORMAL2-IM-0589-0001.jpeg', 'NORMAL2-IM-0588-0001.jpeg', 'NORMAL2-IM-0587-0001.jpeg', 'NORMAL2-IM-0587-0001-0002.jpeg', 'NORMAL2-IM-0587-0001-0001.jpeg', 'NORMAL2-IM-0585-0001.jpeg', 'NORMAL2-IM-0583-0001.jpeg', 'NORMAL2-IM-0582-0001.jpeg', 'NORMAL2-IM-0580-0001.jpeg', 'NORMAL2-IM-0579-0001.jpeg', 'NORMAL2-IM-0578-0001.jpeg', 'NORMAL2-IM-0577-0001.jpeg', 'NORMAL2-IM-0576-0001.jpeg', 'NORMAL2-IM-0575-0001.jpeg', 'NORMAL2-IM-0573-0001.jpeg', 'NORMAL2-IM-0651-0001.jpeg', 'NORMAL2-IM-0650-0001.jpeg', 'NORMAL2-IM-0649-0001.jpeg', 'NORMAL2-IM-0648-0001.jpeg', 'NORMAL2-IM-0647-0001.jpeg', 'NORMAL2-IM-0645-0001.jpeg', 'NORMAL2-IM-0643-0001.jpeg', 'NORMAL2-IM-0642-0001.jpeg', 'NORMAL2-IM-0641-0001.jpeg', 'NORMAL2-IM-0640-0001.jpeg', 'NORMAL2-IM-0637-0001.jpeg', 'NORMAL2-IM-0636-0001.jpeg', 'NORMAL2-IM-0635-0001.jpeg', 'NORMAL2-IM-0634-0001.jpeg', 'NORMAL2-IM-0633-0001.jpeg', 'NORMAL2-IM-0630-0001.jpeg', 'NORMAL2-IM-0629-0001.jpeg', 'NORMAL2-IM-0627-0001.jpeg', 'NORMAL2-IM-0626-0001.jpeg', 'NORMAL2-IM-0623-0001.jpeg', 'NORMAL2-IM-0622-0001.jpeg', 'NORMAL2-IM-0621-0001.jpeg', 'NORMAL2-IM-0620-0001.jpeg', 'NORMAL2-IM-0619-0001.jpeg', 'NORMAL2-IM-0618-0001.jpeg', 'NORMAL2-IM-0617-0001.jpeg', 'NORMAL2-IM-0616-0001.jpeg', 'NORMAL2-IM-0611-0001.jpeg', 'NORMAL2-IM-0609-0001.jpeg', 'NORMAL2-IM-0604-0001.jpeg', 'NORMAL2-IM-0693-0001.jpeg', 'NORMAL2-IM-0692-0001.jpeg', 'NORMAL2-IM-0690-0001.jpeg', 'NORMAL2-IM-0689-0001.jpeg', 'NORMAL2-IM-0687-0001.jpeg', 'NORMAL2-IM-0686-0001.jpeg', 'NORMAL2-IM-0684-0001-0001.jpeg', 'NORMAL2-IM-0683-0001.jpeg', 'NORMAL2-IM-0682-0001.jpeg', 'NORMAL2-IM-0680-0001.jpeg', 'NORMAL2-IM-0678-0001.jpeg', 'NORMAL2-IM-0675-0001.jpeg', 'NORMAL2-IM-0673-0001.jpeg', 'NORMAL2-IM-0672-0001.jpeg', 'NORMAL2-IM-0671-0001.jpeg', 'NORMAL2-IM-0669-0001.jpeg', 'NORMAL2-IM-0668-0001.jpeg', 'NORMAL2-IM-0667-0001.jpeg', 'NORMAL2-IM-0666-0001.jpeg', 'NORMAL2-IM-0665-0001.jpeg', 'NORMAL2-IM-0664-0001.jpeg', 'NORMAL2-IM-0663-0001.jpeg', 'NORMAL2-IM-0662-0001.jpeg', 'NORMAL2-IM-0661-0001.jpeg', 'NORMAL2-IM-0660-0001.jpeg', 'NORMAL2-IM-0659-0001.jpeg', 'NORMAL2-IM-0657-0001.jpeg', 'NORMAL2-IM-0655-0001.jpeg', 'NORMAL2-IM-0654-0001.jpeg', 'NORMAL2-IM-0653-0001.jpeg', 'NORMAL2-IM-0652-0001.jpeg', 'NORMAL2-IM-0651-0004.jpeg', 'NORMAL2-IM-0804-0001.jpeg', 'NORMAL2-IM-0803-0001.jpeg', 'NORMAL2-IM-0799-0001.jpeg', 'NORMAL2-IM-0798-0001.jpeg', 'NORMAL2-IM-0797-0001.jpeg', 'NORMAL2-IM-0796-0001.jpeg', 'NORMAL2-IM-0793-0001.jpeg', 'NORMAL2-IM-0790-0001.jpeg', 'NORMAL2-IM-0781-0001.jpeg', 'NORMAL2-IM-0780-0001.jpeg', 'NORMAL2-IM-0777-0001.jpeg', 'NORMAL2-IM-0776-0001.jpeg', 'NORMAL2-IM-0775-0001.jpeg', 'NORMAL2-IM-0774-0001.jpeg', 'NORMAL2-IM-0772-0001.jpeg', 'NORMAL2-IM-0771-0001.jpeg', 'NORMAL2-IM-0765-0001.jpeg', 'NORMAL2-IM-0757-0001.jpeg', 'NORMAL2-IM-0753-0001.jpeg', 'NORMAL2-IM-0749-0001.jpeg', 'NORMAL2-IM-0746-0001.jpeg', 'NORMAL2-IM-0744-0001.jpeg', 'NORMAL2-IM-0741-0001.jpeg', 'NORMAL2-IM-0736-0001.jpeg', 'NORMAL2-IM-0730-0001.jpeg', 'NORMAL2-IM-0727-0001.jpeg', 'NORMAL2-IM-0725-0001.jpeg', 'NORMAL2-IM-0723-0001.jpeg', 'NORMAL2-IM-0719-0001.jpeg', 'NORMAL2-IM-0718-0001.jpeg', 'NORMAL2-IM-0707-0001.jpeg', 'NORMAL2-IM-0705-0001.jpeg', 'NORMAL2-IM-0702-0001.jpeg', 'NORMAL2-IM-0700-0001.jpeg', 'NORMAL2-IM-0699-0001.jpeg', 'NORMAL2-IM-0698-0001.jpeg', 'NORMAL2-IM-0696-0001.jpeg', 'NORMAL2-IM-0695-0001.jpeg', 'NORMAL2-IM-0694-0001.jpeg', 'NORMAL2-IM-0838-0001.jpeg', 'NORMAL2-IM-0837-0001.jpeg', 'NORMAL2-IM-0836-0001.jpeg', 'NORMAL2-IM-0834-0001.jpeg', 'NORMAL2-IM-0833-0001.jpeg', 'NORMAL2-IM-0832-0001.jpeg', 'NORMAL2-IM-0832-0001-0002.jpeg', 'NORMAL2-IM-0832-0001-0001.jpeg', 'NORMAL2-IM-0831-0001.jpeg', 'NORMAL2-IM-0830-0001.jpeg', 'NORMAL2-IM-0829-0001.jpeg', 'NORMAL2-IM-0828-0001.jpeg', 'NORMAL2-IM-0827-0001.jpeg', 'NORMAL2-IM-0826-0001.jpeg', 'NORMAL2-IM-0825-0001.jpeg', 'NORMAL2-IM-0824-0001.jpeg', 'NORMAL2-IM-0822-0001.jpeg', 'NORMAL2-IM-0821-0001.jpeg', 'NORMAL2-IM-0820-0001.jpeg', 'NORMAL2-IM-0819-0001.jpeg', 'NORMAL2-IM-0818-0001.jpeg', 'NORMAL2-IM-0818-0001-0002.jpeg', 'NORMAL2-IM-0816-0001.jpeg', 'NORMAL2-IM-0815-0001.jpeg', 'NORMAL2-IM-0814-0001.jpeg', 'NORMAL2-IM-0812-0001.jpeg', 'NORMAL2-IM-0811-0001.jpeg', 'NORMAL2-IM-0810-0001.jpeg', 'NORMAL2-IM-0809-0001.jpeg', 'NORMAL2-IM-0808-0001.jpeg', 'NORMAL2-IM-0807-0001.jpeg', 'NORMAL2-IM-0806-0001.jpeg', 'NORMAL2-IM-0873-0001.jpeg', 'NORMAL2-IM-0872-0001.jpeg', 'NORMAL2-IM-0871-0001.jpeg', 'NORMAL2-IM-0870-0001.jpeg', 'NORMAL2-IM-0869-0001.jpeg', 'NORMAL2-IM-0868-0001.jpeg', 'NORMAL2-IM-0867-0001.jpeg', 'NORMAL2-IM-0866-0001.jpeg', 'NORMAL2-IM-0865-0001.jpeg', 'NORMAL2-IM-0863-0001.jpeg', 'NORMAL2-IM-0862-0001.jpeg', 'NORMAL2-IM-0860-0001.jpeg', 'NORMAL2-IM-0859-0001.jpeg', 'NORMAL2-IM-0858-0001.jpeg', 'NORMAL2-IM-0857-0001.jpeg', 'NORMAL2-IM-0856-0001.jpeg', 'NORMAL2-IM-0855-0001.jpeg', 'NORMAL2-IM-0854-0001.jpeg', 'NORMAL2-IM-0853-0001.jpeg', 'NORMAL2-IM-0852-0001.jpeg', 'NORMAL2-IM-0851-0001.jpeg', 'NORMAL2-IM-0851-0001-0002.jpeg', 'NORMAL2-IM-0851-0001-0001.jpeg', 'NORMAL2-IM-0849-0001.jpeg', 'NORMAL2-IM-0848-0001.jpeg', 'NORMAL2-IM-0847-0001.jpeg', 'NORMAL2-IM-0846-0001.jpeg', 'NORMAL2-IM-0845-0001.jpeg', 'NORMAL2-IM-0843-0001.jpeg', 'NORMAL2-IM-0842-0001.jpeg', 'NORMAL2-IM-0841-0001.jpeg', 'NORMAL2-IM-0840-0001.jpeg', 'NORMAL2-IM-0839-0001.jpeg', 'NORMAL2-IM-0908-0001.jpeg', 'NORMAL2-IM-0907-0001.jpeg', 'NORMAL2-IM-0906-0001.jpeg', 'NORMAL2-IM-0905-0001.jpeg', 'NORMAL2-IM-0904-0001.jpeg', 'NORMAL2-IM-0903-0001.jpeg', 'NORMAL2-IM-0900-0001.jpeg', 'NORMAL2-IM-0899-0001.jpeg', 'NORMAL2-IM-0898-0001.jpeg', 'NORMAL2-IM-0897-0001.jpeg', 'NORMAL2-IM-0896-0001.jpeg', 'NORMAL2-IM-0895-0001.jpeg', 'NORMAL2-IM-0894-0001.jpeg', 'NORMAL2-IM-0893-0001.jpeg', 'NORMAL2-IM-0892-0001.jpeg', 'NORMAL2-IM-0890-0001.jpeg', 'NORMAL2-IM-0888-0001.jpeg', 'NORMAL2-IM-0887-0001.jpeg', 'NORMAL2-IM-0886-0001.jpeg', 'NORMAL2-IM-0885-0001.jpeg', 'NORMAL2-IM-0882-0001.jpeg', 'NORMAL2-IM-0881-0001.jpeg', 'NORMAL2-IM-0880-0001.jpeg', 'NORMAL2-IM-0879-0001.jpeg', 'NORMAL2-IM-0877-0001.jpeg', 'NORMAL2-IM-0876-0001.jpeg', 'NORMAL2-IM-0875-0001.jpeg', 'NORMAL2-IM-0874-0001.jpeg', 'NORMAL2-IM-0941-0001.jpeg', 'NORMAL2-IM-0939-0001.jpeg', 'NORMAL2-IM-0937-0001.jpeg', 'NORMAL2-IM-0936-0001.jpeg', 'NORMAL2-IM-0935-0001.jpeg', 'NORMAL2-IM-0934-0001.jpeg', 'NORMAL2-IM-0933-0001.jpeg', 'NORMAL2-IM-0932-0001.jpeg', 'NORMAL2-IM-0931-0001.jpeg', 'NORMAL2-IM-0930-0001.jpeg', 'NORMAL2-IM-0929-0001.jpeg', 'NORMAL2-IM-0927-0001.jpeg', 'NORMAL2-IM-0926-0001.jpeg', 'NORMAL2-IM-0925-0001.jpeg', 'NORMAL2-IM-0924-0001.jpeg', 'NORMAL2-IM-0923-0001.jpeg', 'NORMAL2-IM-0922-0001.jpeg', 'NORMAL2-IM-0919-0001.jpeg', 'NORMAL2-IM-0918-0001.jpeg', 'NORMAL2-IM-0917-0001.jpeg', 'NORMAL2-IM-0915-0001.jpeg', 'NORMAL2-IM-0914-0001.jpeg', 'NORMAL2-IM-0913-0001.jpeg', 'NORMAL2-IM-0912-0001.jpeg', 'NORMAL2-IM-0911-0001.jpeg', 'NORMAL2-IM-0910-0001.jpeg', 'NORMAL2-IM-0909-0001.jpeg', 'NORMAL2-IM-0981-0001.jpeg', 'NORMAL2-IM-0980-0001.jpeg', 'NORMAL2-IM-0979-0001.jpeg', 'NORMAL2-IM-0978-0001.jpeg', 'NORMAL2-IM-0977-0001.jpeg', 'NORMAL2-IM-0976-0001.jpeg', 'NORMAL2-IM-0975-0001.jpeg', 'NORMAL2-IM-0974-0001.jpeg', 'NORMAL2-IM-0971-0001-0002.jpeg', 'NORMAL2-IM-0971-0001-0001.jpeg', 'NORMAL2-IM-0970-0001.jpeg', 'NORMAL2-IM-0969-0001.jpeg', 'NORMAL2-IM-0967-0001.jpeg', 'NORMAL2-IM-0966-0001.jpeg', 'NORMAL2-IM-0965-0001.jpeg', 'NORMAL2-IM-0962-0001.jpeg', 'NORMAL2-IM-0961-0001.jpeg', 'NORMAL2-IM-0960-0001.jpeg', 'NORMAL2-IM-0959-0001.jpeg', 'NORMAL2-IM-0957-0001.jpeg', 'NORMAL2-IM-0956-0001.jpeg', 'NORMAL2-IM-0955-0001.jpeg', 'NORMAL2-IM-0954-0001.jpeg', 'NORMAL2-IM-0952-0001.jpeg', 'NORMAL2-IM-0951-0001.jpeg', 'NORMAL2-IM-0950-0001.jpeg', 'NORMAL2-IM-0949-0001.jpeg', 'NORMAL2-IM-0948-0001.jpeg', 'NORMAL2-IM-0947-0001.jpeg', 'NORMAL2-IM-0946-0001.jpeg', 'NORMAL2-IM-0945-0001.jpeg', 'NORMAL2-IM-0944-0001.jpeg', 'NORMAL2-IM-0942-0001.jpeg', 'NORMAL2-IM-1018-0001.jpeg', 'NORMAL2-IM-1017-0001.jpeg', 'NORMAL2-IM-1016-0001.jpeg', 'NORMAL2-IM-1015-0001.jpeg', 'NORMAL2-IM-1014-0001.jpeg', 'NORMAL2-IM-1011-0001.jpeg', 'NORMAL2-IM-1010-0001.jpeg', 'NORMAL2-IM-1008-0001.jpeg', 'NORMAL2-IM-1006-0001.jpeg', 'NORMAL2-IM-1005-0001.jpeg', 'NORMAL2-IM-1004-0001.jpeg', 'NORMAL2-IM-1002-0001.jpeg', 'NORMAL2-IM-1001-0001.jpeg', 'NORMAL2-IM-0999-0001.jpeg', 'NORMAL2-IM-0998-0001.jpeg', 'NORMAL2-IM-0997-0001.jpeg', 'NORMAL2-IM-0995-0001.jpeg', 'NORMAL2-IM-0995-0001-0002.jpeg', 'NORMAL2-IM-0995-0001-0001.jpeg', 'NORMAL2-IM-0994-0001.jpeg', 'NORMAL2-IM-0993-0001.jpeg', 'NORMAL2-IM-0992-0001.jpeg', 'NORMAL2-IM-0989-0001.jpeg', 'NORMAL2-IM-0988-0001.jpeg', 'NORMAL2-IM-0987-0001.jpeg', 'NORMAL2-IM-0986-0001.jpeg', 'NORMAL2-IM-0983-0001.jpeg', 'NORMAL2-IM-0983-0001-0002.jpeg', 'NORMAL2-IM-0983-0001-0001.jpeg', 'NORMAL2-IM-1052-0001.jpeg', 'NORMAL2-IM-1051-0001.jpeg', 'NORMAL2-IM-1050-0001.jpeg', 'NORMAL2-IM-1049-0001.jpeg', 'NORMAL2-IM-1048-0001.jpeg', 'NORMAL2-IM-1047-0001.jpeg', 'NORMAL2-IM-1046-0001.jpeg', 'NORMAL2-IM-1045-0001.jpeg', 'NORMAL2-IM-1044-0001.jpeg', 'NORMAL2-IM-1043-0001.jpeg', 'NORMAL2-IM-1041-0001.jpeg', 'NORMAL2-IM-1040-0001.jpeg', 'NORMAL2-IM-1039-0001.jpeg', 'NORMAL2-IM-1038-0001.jpeg', 'NORMAL2-IM-1037-0001.jpeg', 'NORMAL2-IM-1035-0001.jpeg', 'NORMAL2-IM-1033-0001.jpeg', 'NORMAL2-IM-1030-0001.jpeg', 'NORMAL2-IM-1028-0001.jpeg', 'NORMAL2-IM-1027-0001.jpeg', 'NORMAL2-IM-1026-0001.jpeg', 'NORMAL2-IM-1025-0001.jpeg', 'NORMAL2-IM-1024-0001.jpeg', 'NORMAL2-IM-1023-0001.jpeg', 'NORMAL2-IM-1022-0001.jpeg', 'NORMAL2-IM-1020-0001.jpeg', 'NORMAL2-IM-1020-0001-0002.jpeg', 'NORMAL2-IM-1020-0001-0001.jpeg', 'NORMAL2-IM-1019-0001.jpeg', 'NORMAL2-IM-1104-0001.jpeg', 'NORMAL2-IM-1103-0001-0001.jpeg', 'NORMAL2-IM-1102-0001.jpeg', 'NORMAL2-IM-1102-0001-0002.jpeg', 'NORMAL2-IM-1102-0001-0001.jpeg', 'NORMAL2-IM-1100-0001.jpeg', 'NORMAL2-IM-1098-0001.jpeg', 'NORMAL2-IM-1096-0001.jpeg', 'NORMAL2-IM-1096-0001-0003.jpeg', 'NORMAL2-IM-1096-0001-0001.jpeg', 'NORMAL2-IM-1094-0001.jpeg', 'NORMAL2-IM-1094-0001-0002.jpeg', 'NORMAL2-IM-1094-0001-0001.jpeg', 'NORMAL2-IM-1093-0001.jpeg', 'NORMAL2-IM-1091-0001.jpeg', 'NORMAL2-IM-1090-0001.jpeg', 'NORMAL2-IM-1089-0001.jpeg', 'NORMAL2-IM-1088-0001.jpeg', 'NORMAL2-IM-1086-0001.jpeg', 'NORMAL2-IM-1084-0001.jpeg', 'NORMAL2-IM-1073-0001.jpeg', 'NORMAL2-IM-1067-0001.jpeg', 'NORMAL2-IM-1067-0001-0001.jpeg', 'NORMAL2-IM-1064-0001.jpeg', 'NORMAL2-IM-1062-0001.jpeg', 'NORMAL2-IM-1060-0001.jpeg', 'NORMAL2-IM-1059-0001.jpeg', 'NORMAL2-IM-1058-0001.jpeg', 'NORMAL2-IM-1056-0001.jpeg', 'NORMAL2-IM-1055-0001.jpeg', 'NORMAL2-IM-1054-0001.jpeg', 'NORMAL2-IM-1053-0001.jpeg', 'NORMAL2-IM-1142-0001-0001.jpeg', 'NORMAL2-IM-1141-0001.jpeg', 'NORMAL2-IM-1138-0001.jpeg', 'NORMAL2-IM-1136-0001.jpeg', 'NORMAL2-IM-1135-0001.jpeg', 'NORMAL2-IM-1134-0001.jpeg', 'NORMAL2-IM-1132-0001.jpeg', 'NORMAL2-IM-1131-0001.jpeg', 'NORMAL2-IM-1130-0001.jpeg', 'NORMAL2-IM-1128-0001.jpeg', 'NORMAL2-IM-1128-0001-0002.jpeg', 'NORMAL2-IM-1128-0001-0001.jpeg', 'NORMAL2-IM-1127-0001.jpeg', 'NORMAL2-IM-1126-0001.jpeg', 'NORMAL2-IM-1125-0001.jpeg', 'NORMAL2-IM-1124-0001.jpeg', 'NORMAL2-IM-1123-0001.jpeg', 'NORMAL2-IM-1122-0001.jpeg', 'NORMAL2-IM-1120-0001.jpeg', 'NORMAL2-IM-1118-0001.jpeg', 'NORMAL2-IM-1117-0001.jpeg', 'NORMAL2-IM-1116-0001.jpeg', 'NORMAL2-IM-1116-0001-0002.jpeg', 'NORMAL2-IM-1116-0001-0001.jpeg', 'NORMAL2-IM-1114-0001.jpeg', 'NORMAL2-IM-1113-0001.jpeg', 'NORMAL2-IM-1112-0001.jpeg', 'NORMAL2-IM-1111-0001.jpeg', 'NORMAL2-IM-1110-0001.jpeg', 'NORMAL2-IM-1109-0001.jpeg', 'NORMAL2-IM-1108-0001.jpeg', 'NORMAL2-IM-1106-0001.jpeg', 'NORMAL2-IM-1105-0001.jpeg', 'NORMAL2-IM-1175-0001.jpeg', 'NORMAL2-IM-1174-0001.jpeg', 'NORMAL2-IM-1173-0001.jpeg', 'NORMAL2-IM-1171-0001.jpeg', 'NORMAL2-IM-1170-0001.jpeg', 'NORMAL2-IM-1169-0001.jpeg', 'NORMAL2-IM-1168-0001.jpeg', 'NORMAL2-IM-1167-0001.jpeg', 'NORMAL2-IM-1164-0001.jpeg', 'NORMAL2-IM-1163-0001.jpeg', 'NORMAL2-IM-1162-0001.jpeg', 'NORMAL2-IM-1161-0001.jpeg', 'NORMAL2-IM-1160-0001.jpeg', 'NORMAL2-IM-1158-0001.jpeg', 'NORMAL2-IM-1157-0001.jpeg', 'NORMAL2-IM-1156-0001.jpeg', 'NORMAL2-IM-1155-0001.jpeg', 'NORMAL2-IM-1154-0001.jpeg', 'NORMAL2-IM-1154-0001-0002.jpeg', 'NORMAL2-IM-1154-0001-0001.jpeg', 'NORMAL2-IM-1153-0001.jpeg', 'NORMAL2-IM-1152-0001.jpeg', 'NORMAL2-IM-1152-0001-0002.jpeg', 'NORMAL2-IM-1152-0001-0001.jpeg', 'NORMAL2-IM-1151-0001.jpeg', 'NORMAL2-IM-1150-0001.jpeg', 'NORMAL2-IM-1149-0001.jpeg', 'NORMAL2-IM-1148-0001.jpeg', 'NORMAL2-IM-1147-0001.jpeg', 'NORMAL2-IM-1145-0001.jpeg', 'NORMAL2-IM-1144-0001.jpeg', 'NORMAL2-IM-1142-0001.jpeg', 'NORMAL2-IM-1142-0001-0002.jpeg', 'NORMAL2-IM-1221-0001.jpeg', 'NORMAL2-IM-1220-0001.jpeg', 'NORMAL2-IM-1219-0001.jpeg', 'NORMAL2-IM-1218-0001.jpeg', 'NORMAL2-IM-1214-0001.jpeg', 'NORMAL2-IM-1209-0001.jpeg', 'NORMAL2-IM-1206-0001.jpeg', 'NORMAL2-IM-1205-0001.jpeg', 'NORMAL2-IM-1204-0001.jpeg', 'NORMAL2-IM-1203-0001.jpeg', 'NORMAL2-IM-1202-0001.jpeg', 'NORMAL2-IM-1201-0001.jpeg', 'NORMAL2-IM-1200-0001.jpeg', 'NORMAL2-IM-1198-0001.jpeg', 'NORMAL2-IM-1197-0001.jpeg', 'NORMAL2-IM-1196-0001.jpeg', 'NORMAL2-IM-1194-0001.jpeg', 'NORMAL2-IM-1192-0001.jpeg', 'NORMAL2-IM-1191-0001.jpeg', 'NORMAL2-IM-1190-0001.jpeg', 'NORMAL2-IM-1189-0001.jpeg', 'NORMAL2-IM-1188-0001.jpeg', 'NORMAL2-IM-1187-0001.jpeg', 'NORMAL2-IM-1185-0001.jpeg', 'NORMAL2-IM-1184-0001.jpeg', 'NORMAL2-IM-1183-0001.jpeg', 'NORMAL2-IM-1182-0001.jpeg', 'NORMAL2-IM-1181-0001.jpeg', 'NORMAL2-IM-1180-0001.jpeg', 'NORMAL2-IM-1179-0001.jpeg', 'NORMAL2-IM-1178-0001.jpeg', 'NORMAL2-IM-1177-0001.jpeg', 'NORMAL2-IM-1176-0001.jpeg', 'NORMAL2-IM-1261-0001.jpeg', 'NORMAL2-IM-1260-0001.jpeg', 'NORMAL2-IM-1258-0001.jpeg', 'NORMAL2-IM-1258-0001-0002.jpeg', 'NORMAL2-IM-1258-0001-0001.jpeg', 'NORMAL2-IM-1257-0001.jpeg', 'NORMAL2-IM-1256-0001.jpeg', 'NORMAL2-IM-1254-0001.jpeg', 'NORMAL2-IM-1253-0001.jpeg', 'NORMAL2-IM-1252-0001.jpeg', 'NORMAL2-IM-1250-0001.jpeg', 'NORMAL2-IM-1247-0001.jpeg', 'NORMAL2-IM-1245-0001.jpeg', 'NORMAL2-IM-1244-0001.jpeg', 'NORMAL2-IM-1243-0001.jpeg', 'NORMAL2-IM-1242-0001.jpeg', 'NORMAL2-IM-1241-0001.jpeg', 'NORMAL2-IM-1240-0001.jpeg', 'NORMAL2-IM-1237-0001.jpeg', 'NORMAL2-IM-1236-0001.jpeg', 'NORMAL2-IM-1234-0001.jpeg', 'NORMAL2-IM-1232-0001.jpeg', 'NORMAL2-IM-1231-0001.jpeg', 'NORMAL2-IM-1228-0001.jpeg', 'NORMAL2-IM-1227-0001.jpeg', 'NORMAL2-IM-1226-0001.jpeg', 'NORMAL2-IM-1225-0001.jpeg', 'NORMAL2-IM-1224-0001.jpeg', 'NORMAL2-IM-1223-0001.jpeg', 'NORMAL2-IM-1222-0001.jpeg', 'NORMAL2-IM-1292-0001.jpeg', 'NORMAL2-IM-1291-0001.jpeg', 'NORMAL2-IM-1290-0001.jpeg', 'NORMAL2-IM-1289-0001.jpeg', 'NORMAL2-IM-1288-0001.jpeg', 'NORMAL2-IM-1287-0001.jpeg', 'NORMAL2-IM-1286-0001.jpeg', 'NORMAL2-IM-1285-0001.jpeg', 'NORMAL2-IM-1282-0001.jpeg', 'NORMAL2-IM-1281-0001.jpeg', 'NORMAL2-IM-1280-0001.jpeg', 'NORMAL2-IM-1279-0001.jpeg', 'NORMAL2-IM-1278-0001.jpeg', 'NORMAL2-IM-1277-0001.jpeg', 'NORMAL2-IM-1277-0001-0002.jpeg', 'NORMAL2-IM-1277-0001-0001.jpeg', 'NORMAL2-IM-1276-0001.jpeg', 'NORMAL2-IM-1275-0001.jpeg', 'NORMAL2-IM-1274-0001.jpeg', 'NORMAL2-IM-1273-0001.jpeg', 'NORMAL2-IM-1272-0001.jpeg', 'NORMAL2-IM-1271-0001.jpeg', 'NORMAL2-IM-1270-0001.jpeg', 'NORMAL2-IM-1269-0001.jpeg', 'NORMAL2-IM-1269-0001-0002.jpeg', 'NORMAL2-IM-1269-0001-0001.jpeg', 'NORMAL2-IM-1267-0001.jpeg', 'NORMAL2-IM-1266-0001.jpeg', 'NORMAL2-IM-1266-0001-0002.jpeg', 'NORMAL2-IM-1266-0001-0001.jpeg', 'NORMAL2-IM-1264-0001.jpeg', 'NORMAL2-IM-1262-0001.jpeg', 'NORMAL2-IM-1329-0001.jpeg', 'NORMAL2-IM-1328-0001.jpeg', 'NORMAL2-IM-1327-0001.jpeg', 'NORMAL2-IM-1326-0001.jpeg', 'NORMAL2-IM-1323-0001.jpeg', 'NORMAL2-IM-1322-0001.jpeg', 'NORMAL2-IM-1321-0001.jpeg', 'NORMAL2-IM-1320-0001.jpeg', 'NORMAL2-IM-1319-0001.jpeg', 'NORMAL2-IM-1318-0001.jpeg', 'NORMAL2-IM-1317-0001.jpeg', 'NORMAL2-IM-1316-0001.jpeg', 'NORMAL2-IM-1315-0001.jpeg', 'NORMAL2-IM-1314-0001.jpeg', 'NORMAL2-IM-1311-0001.jpeg', 'NORMAL2-IM-1310-0001.jpeg', 'NORMAL2-IM-1308-0001.jpeg', 'NORMAL2-IM-1307-0001.jpeg', 'NORMAL2-IM-1306-0001.jpeg', 'NORMAL2-IM-1305-0001.jpeg', 'NORMAL2-IM-1304-0001.jpeg', 'NORMAL2-IM-1303-0001.jpeg', 'NORMAL2-IM-1302-0001.jpeg', 'NORMAL2-IM-1301-0001.jpeg', 'NORMAL2-IM-1300-0001.jpeg', 'NORMAL2-IM-1296-0001.jpeg', 'NORMAL2-IM-1295-0001.jpeg', 'NORMAL2-IM-1294-0001.jpeg', 'NORMAL2-IM-1294-0001-0002.jpeg', 'NORMAL2-IM-1294-0001-0001.jpeg', 'NORMAL2-IM-1293-0001.jpeg', 'NORMAL2-IM-1423-0001.jpeg', 'NORMAL2-IM-1422-0001.jpeg', 'NORMAL2-IM-1419-0001.jpeg', 'NORMAL2-IM-1412-0001.jpeg', 'NORMAL2-IM-1406-0001.jpeg', 'NORMAL2-IM-1401-0001.jpeg', 'NORMAL2-IM-1400-0001.jpeg', 'NORMAL2-IM-1396-0001.jpeg', 'NORMAL2-IM-1385-0001.jpeg', 'NORMAL2-IM-1379-0001.jpeg', 'NORMAL2-IM-1376-0001.jpeg', 'NORMAL2-IM-1371-0001.jpeg', 'NORMAL2-IM-1365-0001.jpeg', 'NORMAL2-IM-1362-0001.jpeg', 'NORMAL2-IM-1360-0001.jpeg', 'NORMAL2-IM-1357-0001.jpeg', 'NORMAL2-IM-1356-0001.jpeg', 'NORMAL2-IM-1351-0001.jpeg', 'NORMAL2-IM-1350-0001.jpeg', 'NORMAL2-IM-1349-0001.jpeg', 'NORMAL2-IM-1348-0001.jpeg', 'NORMAL2-IM-1347-0001.jpeg', 'NORMAL2-IM-1346-0001.jpeg', 'NORMAL2-IM-1345-0001.jpeg', 'NORMAL2-IM-1345-0001-0002.jpeg', 'NORMAL2-IM-1345-0001-0001.jpeg', 'NORMAL2-IM-1344-0001.jpeg', 'NORMAL2-IM-1343-0001.jpeg', 'NORMAL2-IM-1342-0001.jpeg', 'NORMAL2-IM-1341-0001.jpeg', 'NORMAL2-IM-1338-0001.jpeg', 'NORMAL2-IM-1337-0001.jpeg', 'NORMAL2-IM-1336-0001.jpeg', 'NORMAL2-IM-1335-0001.jpeg', 'NORMAL2-IM-1334-0001.jpeg', 'NORMAL2-IM-1333-0001.jpeg', 'NORMAL2-IM-1332-0001.jpeg', 'NORMAL2-IM-1330-0001.jpeg', 'F051E018-DAD1-4506-AD43-BE4CA29E960B.jpeg', 'IM-0128-0001.jpeg', 'IM-0115-0001.jpeg', 'IM-0122-0001.jpeg', 'IM-0117-0001.jpeg', 'IM-0119-0001.jpeg', 'IM-0125-0001.jpeg', 'IM-0187-0001.jpeg', 'IM-0189-0001.jpeg', 'IM-0127-0001.jpeg', 'IM-0183-0001.jpeg', 'IM-0185-0001.jpeg', 'IM-0180-0001.jpeg', 'IM-0177-0001.jpeg', 'IM-0178-0001.jpeg', 'IM-0182-0001.jpeg', 'IM-0176-0001.jpeg', 'IM-0172-0001.jpeg', 'IM-0168-0001.jpeg', 'IM-0170-0001.jpeg', 'IM-0166-0001.jpeg', 'IM-0164-0001.jpeg', 'IM-0162-0001.jpeg', 'IM-0160-0001.jpeg', 'IM-0158-0001.jpeg', 'IM-0156-0001.jpeg', 'IM-0154-0001.jpeg', 'IM-0152-0001.jpeg', 'IM-0149-0001.jpeg', 'IM-0151-0001.jpeg', 'IM-0145-0001.jpeg', 'IM-0147-0001.jpeg', 'IM-0143-0001.jpeg', 'IM-0141-0001.jpeg', 'IM-0140-0001.jpeg', 'IM-0137-0001.jpeg', 'IM-0135-0001.jpeg', 'IM-0133-0001.jpeg', 'IM-0131-0001.jpeg', 'IM-0129-0001.jpeg', 'IM-0239-0001.jpeg', 'IM-0238-0001.jpeg', 'IM-0237-0001.jpeg', 'IM-0236-0001.jpeg', 'IM-0234-0001.jpeg', 'IM-0231-0001.jpeg', 'IM-0230-0001.jpeg', 'IM-0229-0001.jpeg', 'IM-0228-0001.jpeg', 'IM-0227-0001.jpeg', 'IM-0226-0001.jpeg', 'IM-0225-0001.jpeg', 'IM-0224-0001.jpeg', 'IM-0223-0001.jpeg', 'IM-0222-0001.jpeg', 'IM-0221-0001.jpeg', 'IM-0220-0001.jpeg', 'IM-0219-0001.jpeg', 'IM-0218-0001.jpeg', 'IM-0217-0001.jpeg', 'IM-0216-0001.jpeg', 'IM-0215-0001.jpeg', 'IM-0214-0001.jpeg', 'IM-0213-0001.jpeg', 'IM-0211-0001.jpeg', 'IM-0210-0001.jpeg', 'IM-0209-0001.jpeg', 'IM-0207-0001.jpeg', 'IM-0206-0001.jpeg', 'IM-0205-0001.jpeg', 'IM-0203-0001.jpeg', 'IM-0201-0001.jpeg', 'IM-0199-0001.jpeg', 'IM-0195-0001.jpeg', 'IM-0193-0001.jpeg', 'IM-0191-0001.jpeg', 'IM-0285-0001.jpeg', 'IM-0283-0001.jpeg', 'IM-0282-0001.jpeg', 'IM-0280-0001.jpeg', 'IM-0279-0001.jpeg', 'IM-0278-0001.jpeg', 'IM-0277-0001.jpeg', 'IM-0276-0001.jpeg', 'IM-0275-0001.jpeg', 'IM-0274-0001.jpeg', 'IM-0273-0001.jpeg', 'IM-0272-0001.jpeg', 'IM-0270-0001.jpeg', 'IM-0269-0001.jpeg', 'IM-0268-0001.jpeg', 'IM-0266-0001.jpeg', 'IM-0265-0001.jpeg', 'IM-0264-0001.jpeg', 'IM-0262-0001.jpeg', 'IM-0261-0001.jpeg', 'IM-0257-0001.jpeg', 'IM-0256-0001.jpeg', 'IM-0255-0001.jpeg', 'IM-0253-0001.jpeg', 'IM-0251-0001.jpeg', 'IM-0250-0001.jpeg', 'IM-0249-0001.jpeg', 'IM-0248-0001.jpeg', 'IM-0245-0001.jpeg', 'IM-0244-0001.jpeg', 'IM-0243-0001.jpeg', 'IM-0242-0001.jpeg', 'IM-0241-0001.jpeg', 'IM-0240-0001.jpeg', 'IM-0325-0001.jpeg', 'IM-0324-0001.jpeg', 'IM-0323-0001.jpeg', 'IM-0320-0001.jpeg', 'IM-0319-0001.jpeg', 'IM-0318-0001.jpeg', 'IM-0317-0001.jpeg', 'IM-0316-0001.jpeg', 'IM-0315-0001.jpeg', 'IM-0314-0001.jpeg', 'IM-0313-0001.jpeg', 'IM-0312-0001.jpeg', 'IM-0311-0001.jpeg', 'IM-0309-0001.jpeg', 'IM-0308-0001.jpeg', 'IM-0307-0001.jpeg', 'IM-0306-0001.jpeg', 'IM-0305-0001.jpeg', 'IM-0304-0001.jpeg', 'IM-0303-0001.jpeg', 'IM-0302-0001.jpeg', 'IM-0301-0001.jpeg', 'IM-0300-0001.jpeg', 'IM-0299-0001.jpeg', 'IM-0298-0001.jpeg', 'IM-0297-0001.jpeg', 'IM-0295-0001.jpeg', 'IM-0294-0001.jpeg', 'IM-0293-0001.jpeg', 'IM-0292-0001.jpeg', 'IM-0291-0001.jpeg', 'IM-0290-0001.jpeg', 'IM-0289-0001.jpeg', 'IM-0288-0001.jpeg', 'IM-0286-0001.jpeg', 'IM-0371-0001.jpeg', 'IM-0370-0001.jpeg', 'IM-0369-0001.jpeg', 'IM-0368-0001.jpeg', 'IM-0367-0001.jpeg', 'IM-0365-0001.jpeg', 'IM-0364-0001.jpeg', 'IM-0363-0001.jpeg', 'IM-0362-0001.jpeg', 'IM-0361-0001.jpeg', 'IM-0359-0001.jpeg', 'IM-0358-0001.jpeg', 'IM-0357-0001.jpeg', 'IM-0356-0001.jpeg', 'IM-0355-0001.jpeg', 'IM-0354-0001.jpeg', 'IM-0353-0001.jpeg', 'IM-0351-0001.jpeg', 'IM-0350-0001.jpeg', 'IM-0349-0001.jpeg', 'IM-0348-0001.jpeg', 'IM-0347-0001.jpeg', 'IM-0346-0001.jpeg', 'IM-0345-0001.jpeg', 'IM-0343-0001.jpeg', 'IM-0341-0001.jpeg', 'IM-0340-0001.jpeg', 'IM-0339-0001.jpeg', 'IM-0338-0001.jpeg', 'IM-0337-0001.jpeg', 'IM-0335-0001.jpeg', 'IM-0333-0001.jpeg', 'IM-0332-0001.jpeg', 'IM-0331-0001.jpeg', 'IM-0330-0001.jpeg', 'IM-0329-0001.jpeg', 'IM-0327-0001.jpeg', 'IM-0326-0001.jpeg', 'IM-0414-0001.jpeg', 'IM-0413-0001.jpeg', 'IM-0411-0001.jpeg', 'IM-0410-0001.jpeg', 'IM-0409-0001.jpeg', 'IM-0408-0001.jpeg', 'IM-0405-0001.jpeg', 'IM-0404-0001.jpeg', 'IM-0403-0001.jpeg', 'IM-0401-0001.jpeg', 'IM-0400-0001.jpeg', 'IM-0399-0001.jpeg', 'IM-0395-0001.jpeg', 'IM-0394-0001.jpeg', 'IM-0393-0001.jpeg', 'IM-0392-0001.jpeg', 'IM-0391-0001.jpeg', 'IM-0389-0001.jpeg', 'IM-0388-0001.jpeg', 'IM-0387-0001.jpeg', 'IM-0386-0001.jpeg', 'IM-0385-0001.jpeg', 'IM-0384-0001.jpeg', 'IM-0383-0001.jpeg', 'IM-0382-0001.jpeg', 'IM-0381-0001.jpeg', 'IM-0379-0001.jpeg', 'IM-0377-0001.jpeg', 'IM-0375-0001.jpeg', 'IM-0374-0001.jpeg', 'IM-0372-0001.jpeg', 'IM-0446-0001.jpeg', 'IM-0445-0001.jpeg', 'IM-0444-0001.jpeg', 'IM-0442-0001.jpeg', 'IM-0441-0001.jpeg', 'IM-0440-0001.jpeg', 'IM-0439-0001.jpeg', 'IM-0439-0001-0002.jpeg', 'IM-0439-0001-0001.jpeg', 'IM-0438-0001.jpeg', 'IM-0437-0001.jpeg', 'IM-0437-0001-0002.jpeg', 'IM-0437-0001-0001.jpeg', 'IM-0435-0001.jpeg', 'IM-0435-0001-0001.jpeg', 'IM-0434-0001.jpeg', 'IM-0433-0001.jpeg', 'IM-0432-0001.jpeg', 'IM-0431-0001.jpeg', 'IM-0430-0001.jpeg', 'IM-0429-0001.jpeg', 'IM-0429-0001-0002.jpeg', 'IM-0429-0001-0001.jpeg', 'IM-0428-0001.jpeg', 'IM-0427-0001.jpeg', 'IM-0425-0001.jpeg', 'IM-0424-0001.jpeg', 'IM-0423-0001.jpeg', 'IM-0421-0001.jpeg', 'IM-0420-0001.jpeg', 'IM-0419-0001.jpeg', 'IM-0417-0001.jpeg', 'IM-0416-0001.jpeg', 'IM-0478-0001.jpeg', 'IM-0477-0001.jpeg', 'IM-0476-0001.jpeg', 'IM-0475-0001.jpeg', 'IM-0474-0001.jpeg', 'IM-0473-0001.jpeg', 'IM-0472-0001.jpeg', 'IM-0471-0001.jpeg', 'IM-0469-0001.jpeg', 'IM-0467-0001.jpeg', 'IM-0467-0001-0002.jpeg', 'IM-0467-0001-0001.jpeg', 'IM-0466-0001.jpeg', 'IM-0465-0001.jpeg', 'IM-0464-0001.jpeg', 'IM-0463-0001.jpeg', 'IM-0461-0001.jpeg', 'IM-0460-0001.jpeg', 'IM-0459-0001.jpeg', 'IM-0458-0001.jpeg', 'IM-0457-0001.jpeg', 'IM-0456-0001.jpeg', 'IM-0455-0001.jpeg', 'IM-0453-0001.jpeg', 'IM-0453-0001-0002.jpeg', 'IM-0452-0001.jpeg', 'IM-0451-0001.jpeg', 'IM-0450-0001.jpeg', 'IM-0449-0001.jpeg', 'IM-0448-0001.jpeg', 'IM-0447-0001.jpeg', 'IM-0505-0001.jpeg', 'IM-0505-0001-0002.jpeg', 'IM-0505-0001-0001.jpeg', 'IM-0504-0001.jpeg', 'IM-0503-0001.jpeg', 'IM-0502-0001.jpeg', 'IM-0501-0001.jpeg', 'IM-0501-0001-0002.jpeg', 'IM-0501-0001-0001.jpeg', 'IM-0500-0001.jpeg', 'IM-0499-0001.jpeg', 'IM-0499-0001-0002.jpeg', 'IM-0499-0001-0001.jpeg', 'IM-0497-0001.jpeg', 'IM-0497-0001-0002.jpeg', 'IM-0497-0001-0001.jpeg', 'IM-0496-0001.jpeg', 'IM-0495-0001.jpeg', 'IM-0494-0001.jpeg', 'IM-0493-0001.jpeg', 'IM-0492-0001.jpeg', 'IM-0491-0001.jpeg', 'IM-0491-0001-0002.jpeg', 'IM-0491-0001-0001.jpeg', 'IM-0490-0001.jpeg', 'IM-0489-0001.jpeg', 'IM-0488-0001.jpeg', 'IM-0487-0001.jpeg', 'IM-0486-0001.jpeg', 'IM-0485-0001.jpeg', 'IM-0484-0001.jpeg', 'IM-0483-0001.jpeg', 'IM-0482-0001.jpeg', 'IM-0481-0001.jpeg', 'IM-0480-0001.jpeg', 'IM-0479-0001.jpeg', 'IM-0527-0001.jpeg', 'IM-0526-0001.jpeg', 'IM-0525-0001.jpeg', 'IM-0525-0001-0002.jpeg', 'IM-0525-0001-0001.jpeg', 'IM-0524-0001.jpeg', 'IM-0523-0001.jpeg', 'IM-0523-0001-0003.jpeg', 'IM-0523-0001-0002.jpeg', 'IM-0523-0001-0001.jpeg', 'IM-0522-0001.jpeg', 'IM-0521-0001.jpeg', 'IM-0520-0001.jpeg', 'IM-0519-0001.jpeg', 'IM-0519-0001-0002.jpeg', 'IM-0519-0001-0001.jpeg', 'IM-0517-0001.jpeg', 'IM-0517-0001-0001.jpeg', 'IM-0516-0001.jpeg', 'IM-0515-0001.jpeg', 'IM-0514-0001.jpeg', 'IM-0513-0001.jpeg', 'IM-0512-0001.jpeg', 'IM-0511-0001.jpeg', 'IM-0511-0001-0002.jpeg', 'IM-0511-0001-0001.jpeg', 'IM-0510-0001.jpeg', 'IM-0509-0001.jpeg', 'IM-0509-0001-0002.jpeg', 'IM-0509-0001-0001.jpeg', 'IM-0508-0001.jpeg', 'IM-0507-0001.jpeg', 'IM-0506-0001.jpeg', 'IM-0551-0001-0001.jpeg', 'IM-0549-0001.jpeg', 'IM-0549-0001-0002.jpeg', 'IM-0549-0001-0001.jpeg', 'IM-0548-0001.jpeg', 'IM-0547-0001.jpeg', 'IM-0546-0001.jpeg', 'IM-0545-0001.jpeg', 'IM-0545-0001-0002.jpeg', 'IM-0545-0001-0001.jpeg', 'IM-0544-0001.jpeg', 'IM-0543-0001.jpeg', 'IM-0543-0001-0002.jpeg', 'IM-0542-0001.jpeg', 'IM-0541-0001.jpeg', 'IM-0540-0001.jpeg', 'IM-0539-0001.jpeg', 'IM-0539-0001-0002.jpeg', 'IM-0539-0001-0001.jpeg', 'IM-0538-0001.jpeg', 'IM-0537-0001.jpeg', 'IM-0536-0001.jpeg', 'IM-0535-0001.jpeg', 'IM-0534-0001.jpeg', 'IM-0533-0001.jpeg', 'IM-0533-0001-0002.jpeg', 'IM-0533-0001-0001.jpeg', 'IM-0532-0001.jpeg', 'IM-0531-0001.jpeg', 'IM-0531-0001-0001.jpeg', 'IM-0530-0001.jpeg', 'IM-0529-0001.jpeg', 'IM-0528-0001.jpeg', 'IM-0581-0001.jpeg', 'IM-0580-0001.jpeg', 'IM-0579-0001.jpeg', 'IM-0578-0001.jpeg', 'IM-0577-0001.jpeg']\n",
            "['IM-0021-0001.jpeg', 'IM-0019-0001.jpeg', 'IM-0017-0001.jpeg', 'IM-0016-0001.jpeg', 'IM-0015-0001.jpeg', 'IM-0013-0001.jpeg', 'IM-0011-0001.jpeg', 'IM-0011-0001-0002.jpeg', 'IM-0011-0001-0001.jpeg', 'IM-0010-0001.jpeg', 'IM-0009-0001.jpeg', 'IM-0007-0001.jpeg', 'IM-0006-0001.jpeg', 'IM-0005-0001.jpeg', 'IM-0003-0001.jpeg', 'IM-0001-0001.jpeg', 'NORMAL2-IM-0073-0001.jpeg', 'NORMAL2-IM-0072-0001.jpeg', 'NORMAL2-IM-0066-0001.jpeg', 'NORMAL2-IM-0060-0001.jpeg', 'NORMAL2-IM-0059-0001.jpeg', 'NORMAL2-IM-0058-0001.jpeg', 'NORMAL2-IM-0052-0001.jpeg', 'NORMAL2-IM-0051-0001.jpeg', 'NORMAL2-IM-0045-0001.jpeg', 'NORMAL2-IM-0041-0001.jpeg', 'NORMAL2-IM-0035-0001.jpeg', 'NORMAL2-IM-0033-0001.jpeg', 'NORMAL2-IM-0030-0001.jpeg', 'NORMAL2-IM-0029-0001.jpeg', 'NORMAL2-IM-0028-0001.jpeg', 'NORMAL2-IM-0027-0001.jpeg', 'NORMAL2-IM-0023-0001.jpeg', 'NORMAL2-IM-0019-0001.jpeg', 'NORMAL2-IM-0013-0001.jpeg', 'NORMAL2-IM-0012-0001.jpeg', 'NORMAL2-IM-0007-0001.jpeg', 'IM-0111-0001.jpeg', 'IM-0110-0001.jpeg', 'IM-0109-0001.jpeg', 'IM-0107-0001.jpeg', 'IM-0105-0001.jpeg', 'IM-0103-0001.jpeg', 'IM-0102-0001.jpeg', 'IM-0101-0001.jpeg', 'IM-0099-0001.jpeg', 'IM-0097-0001.jpeg', 'IM-0095-0001.jpeg', 'IM-0093-0001.jpeg', 'IM-0091-0001.jpeg', 'IM-0089-0001.jpeg', 'IM-0087-0001.jpeg', 'IM-0086-0001.jpeg', 'IM-0085-0001.jpeg', 'IM-0084-0001.jpeg', 'IM-0083-0001.jpeg', 'IM-0081-0001.jpeg', 'IM-0079-0001.jpeg', 'IM-0077-0001.jpeg', 'IM-0075-0001.jpeg', 'IM-0073-0001.jpeg', 'IM-0071-0001.jpeg', 'IM-0070-0001.jpeg', 'IM-0069-0001.jpeg', 'IM-0067-0001.jpeg', 'IM-0065-0001.jpeg', 'IM-0063-0001.jpeg', 'IM-0061-0001.jpeg', 'IM-0059-0001.jpeg', 'IM-0050-0001.jpeg', 'IM-0049-0001.jpeg', 'IM-0046-0001.jpeg', 'IM-0045-0001.jpeg', 'IM-0043-0001.jpeg', 'IM-0041-0001.jpeg', 'IM-0039-0001.jpeg', 'IM-0037-0001.jpeg', 'IM-0036-0001.jpeg', 'IM-0035-0001.jpeg', 'IM-0033-0001.jpeg', 'IM-0033-0001-0002.jpeg', 'IM-0033-0001-0001.jpeg', 'IM-0031-0001.jpeg', 'IM-0030-0001.jpeg', 'IM-0029-0001.jpeg', 'IM-0028-0001.jpeg', 'IM-0027-0001.jpeg', 'IM-0025-0001.jpeg', 'IM-0023-0001.jpeg', 'IM-0022-0001.jpeg', 'NORMAL2-IM-0336-0001.jpeg', 'NORMAL2-IM-0335-0001.jpeg', 'NORMAL2-IM-0333-0001.jpeg', 'NORMAL2-IM-0332-0001.jpeg', 'NORMAL2-IM-0331-0001.jpeg', 'NORMAL2-IM-0330-0001.jpeg', 'NORMAL2-IM-0329-0001.jpeg', 'NORMAL2-IM-0328-0001.jpeg', 'NORMAL2-IM-0327-0001.jpeg', 'NORMAL2-IM-0326-0001.jpeg', 'NORMAL2-IM-0325-0001.jpeg', 'NORMAL2-IM-0323-0001.jpeg', 'NORMAL2-IM-0322-0001.jpeg', 'NORMAL2-IM-0321-0001.jpeg', 'NORMAL2-IM-0319-0001.jpeg', 'NORMAL2-IM-0317-0001.jpeg', 'NORMAL2-IM-0316-0001.jpeg', 'NORMAL2-IM-0315-0001.jpeg', 'NORMAL2-IM-0313-0001.jpeg', 'NORMAL2-IM-0312-0001.jpeg', 'NORMAL2-IM-0311-0001.jpeg', 'NORMAL2-IM-0310-0001.jpeg', 'NORMAL2-IM-0309-0001.jpeg', 'NORMAL2-IM-0307-0001.jpeg', 'NORMAL2-IM-0305-0001.jpeg', 'NORMAL2-IM-0304-0001.jpeg', 'NORMAL2-IM-0303-0001.jpeg', 'NORMAL2-IM-0302-0001.jpeg', 'NORMAL2-IM-0301-0001.jpeg', 'NORMAL2-IM-0300-0001.jpeg', 'NORMAL2-IM-0297-0001.jpeg', 'NORMAL2-IM-0294-0001.jpeg', 'NORMAL2-IM-0292-0001.jpeg', 'NORMAL2-IM-0290-0001.jpeg', 'NORMAL2-IM-0289-0001.jpeg', 'NORMAL2-IM-0288-0001.jpeg', 'NORMAL2-IM-0287-0001.jpeg', 'NORMAL2-IM-0286-0001.jpeg', 'NORMAL2-IM-0285-0001.jpeg', 'NORMAL2-IM-0283-0001.jpeg', 'NORMAL2-IM-0282-0001.jpeg', 'NORMAL2-IM-0281-0001.jpeg', 'NORMAL2-IM-0280-0001.jpeg', 'NORMAL2-IM-0279-0001.jpeg', 'NORMAL2-IM-0278-0001.jpeg', 'NORMAL2-IM-0277-0001.jpeg', 'NORMAL2-IM-0276-0001.jpeg', 'NORMAL2-IM-0275-0001.jpeg', 'NORMAL2-IM-0274-0001.jpeg', 'NORMAL2-IM-0273-0001.jpeg', 'NORMAL2-IM-0272-0001.jpeg', 'NORMAL2-IM-0271-0001.jpeg', 'NORMAL2-IM-0267-0001.jpeg', 'NORMAL2-IM-0259-0001.jpeg', 'NORMAL2-IM-0256-0001.jpeg', 'NORMAL2-IM-0252-0001.jpeg', 'NORMAL2-IM-0251-0001.jpeg', 'NORMAL2-IM-0249-0001.jpeg', 'NORMAL2-IM-0246-0001.jpeg', 'NORMAL2-IM-0246-0001-0002.jpeg', 'NORMAL2-IM-0246-0001-0001.jpeg', 'NORMAL2-IM-0241-0001.jpeg', 'NORMAL2-IM-0238-0001.jpeg', 'NORMAL2-IM-0237-0001.jpeg', 'NORMAL2-IM-0233-0001.jpeg', 'NORMAL2-IM-0232-0001.jpeg', 'NORMAL2-IM-0229-0001.jpeg', 'NORMAL2-IM-0222-0001.jpeg', 'NORMAL2-IM-0221-0001.jpeg', 'NORMAL2-IM-0219-0001.jpeg', 'NORMAL2-IM-0217-0001.jpeg', 'NORMAL2-IM-0213-0001.jpeg', 'NORMAL2-IM-0210-0001.jpeg', 'NORMAL2-IM-0207-0001.jpeg', 'NORMAL2-IM-0206-0001.jpeg', 'NORMAL2-IM-0201-0001.jpeg', 'NORMAL2-IM-0199-0001.jpeg', 'NORMAL2-IM-0198-0001.jpeg', 'NORMAL2-IM-0196-0001.jpeg', 'NORMAL2-IM-0195-0001.jpeg', 'NORMAL2-IM-0173-0001-0002.jpeg', 'NORMAL2-IM-0173-0001-0001.jpeg', 'NORMAL2-IM-0171-0001.jpeg', 'NORMAL2-IM-0150-0001.jpeg', 'NORMAL2-IM-0146-0001.jpeg', 'NORMAL2-IM-0145-0001.jpeg', 'NORMAL2-IM-0141-0001.jpeg', 'NORMAL2-IM-0139-0001.jpeg', 'NORMAL2-IM-0135-0001.jpeg', 'NORMAL2-IM-0132-0001.jpeg', 'NORMAL2-IM-0131-0001.jpeg', 'NORMAL2-IM-0130-0001.jpeg', 'NORMAL2-IM-0129-0001.jpeg', 'NORMAL2-IM-0123-0001.jpeg', 'NORMAL2-IM-0120-0001.jpeg', 'NORMAL2-IM-0117-0001.jpeg', 'NORMAL2-IM-0112-0001.jpeg', 'NORMAL2-IM-0111-0001.jpeg', 'NORMAL2-IM-0110-0001.jpeg', 'NORMAL2-IM-0107-0001.jpeg', 'NORMAL2-IM-0105-0001.jpeg', 'NORMAL2-IM-0102-0001.jpeg', 'NORMAL2-IM-0098-0001.jpeg', 'NORMAL2-IM-0096-0001.jpeg', 'NORMAL2-IM-0095-0001.jpeg', 'NORMAL2-IM-0092-0001.jpeg', 'NORMAL2-IM-0086-0001.jpeg', 'NORMAL2-IM-0081-0001.jpeg', 'NORMAL2-IM-0079-0001.jpeg', 'NORMAL2-IM-0381-0001.jpeg', 'NORMAL2-IM-0380-0001.jpeg', 'NORMAL2-IM-0378-0001.jpeg', 'NORMAL2-IM-0376-0001.jpeg', 'NORMAL2-IM-0374-0001.jpeg', 'NORMAL2-IM-0374-0001-0002.jpeg', 'NORMAL2-IM-0374-0001-0001.jpeg', 'NORMAL2-IM-0373-0001.jpeg', 'NORMAL2-IM-0372-0001.jpeg', 'NORMAL2-IM-0370-0001.jpeg', 'NORMAL2-IM-0369-0001.jpeg', 'NORMAL2-IM-0368-0001.jpeg', 'NORMAL2-IM-0366-0001.jpeg', 'NORMAL2-IM-0364-0001.jpeg', 'NORMAL2-IM-0362-0001.jpeg', 'NORMAL2-IM-0361-0001.jpeg', 'NORMAL2-IM-0360-0001.jpeg', 'NORMAL2-IM-0359-0001.jpeg', 'NORMAL2-IM-0357-0001.jpeg', 'NORMAL2-IM-0354-0001.jpeg', 'NORMAL2-IM-0353-0001.jpeg', 'NORMAL2-IM-0352-0001.jpeg', 'NORMAL2-IM-0351-0001.jpeg', 'NORMAL2-IM-0350-0001.jpeg', 'NORMAL2-IM-0349-0001.jpeg', 'NORMAL2-IM-0348-0001.jpeg', 'NORMAL2-IM-0347-0001.jpeg', 'NORMAL2-IM-0346-0001.jpeg', 'NORMAL2-IM-0345-0001.jpeg', 'NORMAL2-IM-0343-0001.jpeg', 'NORMAL2-IM-0341-0001.jpeg', 'NORMAL2-IM-0340-0001.jpeg', 'NORMAL2-IM-0339-0001.jpeg', 'NORMAL2-IM-0338-0001.jpeg', 'NORMAL2-IM-0337-0001.jpeg']\n"
          ],
          "name": "stdout"
        }
      ]
    },
    {
      "cell_type": "code",
      "metadata": {
        "id": "aO068hlSu-L-",
        "colab": {
          "base_uri": "https://localhost:8080/"
        },
        "outputId": "6faee4f1-3fce-43e3-fdf3-79d6cd9ab957"
      },
      "source": [
        "!cd /corona_check/train/\n",
        "!rm /corona_check/train/*.jpeg\n",
        "\n",
        "!cd /corona_check/test/\n",
        "!rm /corona_check/test/*.jpeg"
      ],
      "execution_count": 10,
      "outputs": [
        {
          "output_type": "stream",
          "text": [
            "/bin/bash: line 0: cd: /corona_check/train/: No such file or directory\n",
            "rm: cannot remove '/corona_check/train/*.jpeg': No such file or directory\n",
            "/bin/bash: line 0: cd: /corona_check/test/: No such file or directory\n",
            "rm: cannot remove '/corona_check/test/*.jpeg': No such file or directory\n"
          ],
          "name": "stdout"
        }
      ]
    },
    {
      "cell_type": "code",
      "metadata": {
        "id": "jgQpAs73vG8F"
      },
      "source": [
        "\n",
        "import shutil, sys  \n",
        "def copy_img(src_path,dst_path):\n",
        "    try:\n",
        "        shutil.copy(src_path, dst_path)\n",
        "        stmt ='File Copied'\n",
        "    except IOError as e:\n",
        "        print('Unable to copy file {} to {}'\n",
        "              .format(src_path, dst_path))\n",
        "        stmt ='Copy Failed - IO Error'\n",
        "    except:\n",
        "        print('When try copy file {} to {}, unexpected error: {}'\n",
        "              .format(src_path, dst_path, sys.exc_info()))\n",
        "        stmt ='Copy Failed - other Error'+ sys.exc_info()\n",
        "        \n",
        "    return stmt "
      ],
      "execution_count": 11,
      "outputs": []
    },
    {
      "cell_type": "code",
      "metadata": {
        "id": "7XgwEu2jvPJ4"
      },
      "source": [
        "data_dir=\"/content/Coronahack-Chest-XRay-Dataset/Coronahack-Chest-XRay-Dataset\"\n",
        "metadata_path=\"/content/Coronahack-Chest-XRay-Dataset\""
      ],
      "execution_count": 12,
      "outputs": []
    },
    {
      "cell_type": "code",
      "metadata": {
        "id": "2btHiGSsvfw2"
      },
      "source": [
        "\n",
        "train_dir = os.path.join(data_dir, 'train')\n",
        "test_dir = os.path.join(data_dir, 'test')"
      ],
      "execution_count": 13,
      "outputs": []
    },
    {
      "cell_type": "code",
      "metadata": {
        "id": "hiCZidt4vp4d",
        "colab": {
          "base_uri": "https://localhost:8080/",
          "height": 204
        },
        "outputId": "f05bc507-0406-4e8c-cfac-d580ac203a5d"
      },
      "source": [
        "meta_data = pd.read_csv(\"/content/gdrive/My Drive/Kaggle/Chest_xray_Corona_Metadata.csv\")\n",
        "meta_data.head()"
      ],
      "execution_count": 14,
      "outputs": [
        {
          "output_type": "execute_result",
          "data": {
            "text/html": [
              "<div>\n",
              "<style scoped>\n",
              "    .dataframe tbody tr th:only-of-type {\n",
              "        vertical-align: middle;\n",
              "    }\n",
              "\n",
              "    .dataframe tbody tr th {\n",
              "        vertical-align: top;\n",
              "    }\n",
              "\n",
              "    .dataframe thead th {\n",
              "        text-align: right;\n",
              "    }\n",
              "</style>\n",
              "<table border=\"1\" class=\"dataframe\">\n",
              "  <thead>\n",
              "    <tr style=\"text-align: right;\">\n",
              "      <th></th>\n",
              "      <th>Unnamed: 0</th>\n",
              "      <th>X_ray_image_name</th>\n",
              "      <th>Label</th>\n",
              "      <th>Dataset_type</th>\n",
              "      <th>Label_2_Virus_category</th>\n",
              "      <th>Label_1_Virus_category</th>\n",
              "    </tr>\n",
              "  </thead>\n",
              "  <tbody>\n",
              "    <tr>\n",
              "      <th>0</th>\n",
              "      <td>0</td>\n",
              "      <td>IM-0128-0001.jpeg</td>\n",
              "      <td>Normal</td>\n",
              "      <td>TRAIN</td>\n",
              "      <td>NaN</td>\n",
              "      <td>NaN</td>\n",
              "    </tr>\n",
              "    <tr>\n",
              "      <th>1</th>\n",
              "      <td>1</td>\n",
              "      <td>IM-0127-0001.jpeg</td>\n",
              "      <td>Normal</td>\n",
              "      <td>TRAIN</td>\n",
              "      <td>NaN</td>\n",
              "      <td>NaN</td>\n",
              "    </tr>\n",
              "    <tr>\n",
              "      <th>2</th>\n",
              "      <td>2</td>\n",
              "      <td>IM-0125-0001.jpeg</td>\n",
              "      <td>Normal</td>\n",
              "      <td>TRAIN</td>\n",
              "      <td>NaN</td>\n",
              "      <td>NaN</td>\n",
              "    </tr>\n",
              "    <tr>\n",
              "      <th>3</th>\n",
              "      <td>3</td>\n",
              "      <td>IM-0122-0001.jpeg</td>\n",
              "      <td>Normal</td>\n",
              "      <td>TRAIN</td>\n",
              "      <td>NaN</td>\n",
              "      <td>NaN</td>\n",
              "    </tr>\n",
              "    <tr>\n",
              "      <th>4</th>\n",
              "      <td>4</td>\n",
              "      <td>IM-0119-0001.jpeg</td>\n",
              "      <td>Normal</td>\n",
              "      <td>TRAIN</td>\n",
              "      <td>NaN</td>\n",
              "      <td>NaN</td>\n",
              "    </tr>\n",
              "  </tbody>\n",
              "</table>\n",
              "</div>"
            ],
            "text/plain": [
              "   Unnamed: 0   X_ray_image_name  ... Label_2_Virus_category Label_1_Virus_category\n",
              "0           0  IM-0128-0001.jpeg  ...                    NaN                    NaN\n",
              "1           1  IM-0127-0001.jpeg  ...                    NaN                    NaN\n",
              "2           2  IM-0125-0001.jpeg  ...                    NaN                    NaN\n",
              "3           3  IM-0122-0001.jpeg  ...                    NaN                    NaN\n",
              "4           4  IM-0119-0001.jpeg  ...                    NaN                    NaN\n",
              "\n",
              "[5 rows x 6 columns]"
            ]
          },
          "metadata": {
            "tags": []
          },
          "execution_count": 14
        }
      ]
    },
    {
      "cell_type": "code",
      "metadata": {
        "id": "Y2IAiwaFwKGm"
      },
      "source": [
        "meta_COVID_19_train = meta_data[(meta_data['Dataset_type']=='TRAIN') & \n",
        "                        ((meta_data['Label']=='Normal')|(meta_data['Label']=='Pnemonia') & (meta_data['Label_2_Virus_category']=='COVID-19'))]\n",
        "\n",
        "\n",
        "meta_COVID_19_test = meta_data[(meta_data['Dataset_type']=='TEST') & \n",
        "                        ((meta_data['Label']=='Normal')|(meta_data['Label']=='Pnemonia') & (meta_data['Label_2_Virus_category']=='COVID-19'))]\n",
        "\n",
        "\n",
        "\n",
        "meta_data_covid_test = meta_data[meta_data['Label_2_Virus_category']=='COVID-19'].sample(12)\n",
        "meta_COVID_19_train = meta_COVID_19_train[~meta_COVID_19_train['X_ray_image_name'].isin(meta_data_covid_test['X_ray_image_name'])]\n",
        "meta_COVID_19_test_fnl = pd.concat([meta_data_covid_test,meta_COVID_19_test],ignore_index=False)"
      ],
      "execution_count": 15,
      "outputs": []
    },
    {
      "cell_type": "code",
      "metadata": {
        "id": "Q-BzxJFl9XIl"
      },
      "source": [
        "meta_COVID_19_train.loc[meta_COVID_19_train['Label'] =='Pnemonia','Label']='COVID19'\n",
        "meta_COVID_19_test_fnl.loc[meta_COVID_19_test_fnl['Label'] =='Pnemonia','Label']='COVID19'"
      ],
      "execution_count": 16,
      "outputs": []
    },
    {
      "cell_type": "code",
      "metadata": {
        "id": "CjEoefQU3FhM",
        "colab": {
          "base_uri": "https://localhost:8080/"
        },
        "outputId": "edfbbdaa-4abf-4880-b752-4dc4c1b07260"
      },
      "source": [
        "print(\"===============Train Set==========================\\n\")\n",
        "print(meta_COVID_19_train.groupby(['Label']).agg({'Dataset_type':'count'}))\n",
        "\n",
        "print(\"\\n===============Test Set==========================\\n\")\n",
        "print(meta_COVID_19_test_fnl.groupby(['Label']).agg({'Dataset_type':'count'}))"
      ],
      "execution_count": 17,
      "outputs": [
        {
          "output_type": "stream",
          "text": [
            "===============Train Set==========================\n",
            "\n",
            "         Dataset_type\n",
            "Label                \n",
            "COVID19            46\n",
            "Normal           1342\n",
            "\n",
            "===============Test Set==========================\n",
            "\n",
            "         Dataset_type\n",
            "Label                \n",
            "COVID19            12\n",
            "Normal            234\n"
          ],
          "name": "stdout"
        }
      ]
    },
    {
      "cell_type": "code",
      "metadata": {
        "id": "5ZbzP79p-O1u"
      },
      "source": [
        "meta_COVID_19_train['Img_tgt_path']=\"/content/gdrive/My Drive/Kaggle/Coronahack-Chest-XRay-Dataset/Coronahack-Chest-XRay-Dataset/train/\"\n",
        "meta_COVID_19_test_fnl['Img_tgt_path']=\"/content/gdrive/My Drive/Kaggle/Coronahack-Chest-XRay-Dataset/Coronahack-Chest-XRay-Dataset/test/\"\n"
      ],
      "execution_count": 18,
      "outputs": []
    },
    {
      "cell_type": "code",
      "metadata": {
        "id": "xFN0QUNB-O5M"
      },
      "source": [
        "meta_COVID_19_train.loc[meta_COVID_19_train['Label']=='Normal','Img_tgt_path']=meta_COVID_19_train['Img_tgt_path']+'Normal/'\n",
        "meta_COVID_19_train.loc[meta_COVID_19_train['Label']=='COVID19','Img_tgt_path']=meta_COVID_19_train['Img_tgt_path']+'COVID19/'\n",
        "\n",
        "meta_COVID_19_test_fnl.loc[meta_COVID_19_test_fnl['Label']=='Normal','Img_tgt_path']=meta_COVID_19_test_fnl['Img_tgt_path']+'Normal/'\n",
        "meta_COVID_19_test_fnl.loc[meta_COVID_19_test_fnl['Label']=='COVID19','Img_tgt_path']=meta_COVID_19_test_fnl['Img_tgt_path']+'COVID19/'"
      ],
      "execution_count": 19,
      "outputs": []
    },
    {
      "cell_type": "code",
      "metadata": {
        "id": "qnMBEwNJoGLe",
        "colab": {
          "base_uri": "https://localhost:8080/",
          "height": 1000
        },
        "outputId": "2912b7a8-b3c6-475a-b75f-c9b0ecfc131a"
      },
      "source": [
        "meta_COVID_19_train.tail(25)"
      ],
      "execution_count": 20,
      "outputs": [
        {
          "output_type": "execute_result",
          "data": {
            "text/html": [
              "<div>\n",
              "<style scoped>\n",
              "    .dataframe tbody tr th:only-of-type {\n",
              "        vertical-align: middle;\n",
              "    }\n",
              "\n",
              "    .dataframe tbody tr th {\n",
              "        vertical-align: top;\n",
              "    }\n",
              "\n",
              "    .dataframe thead th {\n",
              "        text-align: right;\n",
              "    }\n",
              "</style>\n",
              "<table border=\"1\" class=\"dataframe\">\n",
              "  <thead>\n",
              "    <tr style=\"text-align: right;\">\n",
              "      <th></th>\n",
              "      <th>Unnamed: 0</th>\n",
              "      <th>X_ray_image_name</th>\n",
              "      <th>Label</th>\n",
              "      <th>Dataset_type</th>\n",
              "      <th>Label_2_Virus_category</th>\n",
              "      <th>Label_1_Virus_category</th>\n",
              "      <th>Img_tgt_path</th>\n",
              "    </tr>\n",
              "  </thead>\n",
              "  <tbody>\n",
              "    <tr>\n",
              "      <th>5256</th>\n",
              "      <td>5268</td>\n",
              "      <td>6CB4EFC6-68FA-4CD5-940C-BEFA8DAFE9A7.jpeg</td>\n",
              "      <td>COVID19</td>\n",
              "      <td>TRAIN</td>\n",
              "      <td>COVID-19</td>\n",
              "      <td>Virus</td>\n",
              "      <td>/content/gdrive/My Drive/Kaggle/Coronahack-Che...</td>\n",
              "    </tr>\n",
              "    <tr>\n",
              "      <th>5257</th>\n",
              "      <td>5271</td>\n",
              "      <td>5e6dd879fde9502400e58b2f.jpeg</td>\n",
              "      <td>COVID19</td>\n",
              "      <td>TRAIN</td>\n",
              "      <td>COVID-19</td>\n",
              "      <td>Virus</td>\n",
              "      <td>/content/gdrive/My Drive/Kaggle/Coronahack-Che...</td>\n",
              "    </tr>\n",
              "    <tr>\n",
              "      <th>5258</th>\n",
              "      <td>5272</td>\n",
              "      <td>5CBC2E94-D358-401E-8928-965CCD965C5C.jpeg</td>\n",
              "      <td>COVID19</td>\n",
              "      <td>TRAIN</td>\n",
              "      <td>COVID-19</td>\n",
              "      <td>Virus</td>\n",
              "      <td>/content/gdrive/My Drive/Kaggle/Coronahack-Che...</td>\n",
              "    </tr>\n",
              "    <tr>\n",
              "      <th>5259</th>\n",
              "      <td>5273</td>\n",
              "      <td>5931B64A-7B97-485D-BE60-3F1EA76BC4F0.jpeg</td>\n",
              "      <td>COVID19</td>\n",
              "      <td>TRAIN</td>\n",
              "      <td>COVID-19</td>\n",
              "      <td>Virus</td>\n",
              "      <td>/content/gdrive/My Drive/Kaggle/Coronahack-Che...</td>\n",
              "    </tr>\n",
              "    <tr>\n",
              "      <th>5260</th>\n",
              "      <td>5275</td>\n",
              "      <td>4C4DEFD8-F55D-4588-AAD6-C59017F55966.jpeg</td>\n",
              "      <td>COVID19</td>\n",
              "      <td>TRAIN</td>\n",
              "      <td>COVID-19</td>\n",
              "      <td>Virus</td>\n",
              "      <td>/content/gdrive/My Drive/Kaggle/Coronahack-Che...</td>\n",
              "    </tr>\n",
              "    <tr>\n",
              "      <th>5261</th>\n",
              "      <td>5276</td>\n",
              "      <td>44C8E3D6-20DA-42E9-B33B-96FA6D6DE12F.jpeg</td>\n",
              "      <td>COVID19</td>\n",
              "      <td>TRAIN</td>\n",
              "      <td>COVID-19</td>\n",
              "      <td>Virus</td>\n",
              "      <td>/content/gdrive/My Drive/Kaggle/Coronahack-Che...</td>\n",
              "    </tr>\n",
              "    <tr>\n",
              "      <th>5263</th>\n",
              "      <td>5278</td>\n",
              "      <td>41591_2020_819_Fig1_HTML.webp-day5.png</td>\n",
              "      <td>COVID19</td>\n",
              "      <td>TRAIN</td>\n",
              "      <td>COVID-19</td>\n",
              "      <td>Virus</td>\n",
              "      <td>/content/gdrive/My Drive/Kaggle/Coronahack-Che...</td>\n",
              "    </tr>\n",
              "    <tr>\n",
              "      <th>5264</th>\n",
              "      <td>5279</td>\n",
              "      <td>41591_2020_819_Fig1_HTML.webp-day10.png</td>\n",
              "      <td>COVID19</td>\n",
              "      <td>TRAIN</td>\n",
              "      <td>COVID-19</td>\n",
              "      <td>Virus</td>\n",
              "      <td>/content/gdrive/My Drive/Kaggle/Coronahack-Che...</td>\n",
              "    </tr>\n",
              "    <tr>\n",
              "      <th>5266</th>\n",
              "      <td>5283</td>\n",
              "      <td>35AF5C3B-D04D-4B4B-92B7-CB1F67D83085.jpeg</td>\n",
              "      <td>COVID19</td>\n",
              "      <td>TRAIN</td>\n",
              "      <td>COVID-19</td>\n",
              "      <td>Virus</td>\n",
              "      <td>/content/gdrive/My Drive/Kaggle/Coronahack-Che...</td>\n",
              "    </tr>\n",
              "    <tr>\n",
              "      <th>5267</th>\n",
              "      <td>5284</td>\n",
              "      <td>31BA3780-2323-493F-8AED-62081B9C383B.jpeg</td>\n",
              "      <td>COVID19</td>\n",
              "      <td>TRAIN</td>\n",
              "      <td>COVID-19</td>\n",
              "      <td>Virus</td>\n",
              "      <td>/content/gdrive/My Drive/Kaggle/Coronahack-Che...</td>\n",
              "    </tr>\n",
              "    <tr>\n",
              "      <th>5268</th>\n",
              "      <td>5285</td>\n",
              "      <td>2C26F453-AF3B-4517-BB9E-802CF2179543.jpeg</td>\n",
              "      <td>COVID19</td>\n",
              "      <td>TRAIN</td>\n",
              "      <td>COVID-19</td>\n",
              "      <td>Virus</td>\n",
              "      <td>/content/gdrive/My Drive/Kaggle/Coronahack-Che...</td>\n",
              "    </tr>\n",
              "    <tr>\n",
              "      <th>5269</th>\n",
              "      <td>5286</td>\n",
              "      <td>2C10A413-AABE-4807-8CCE-6A2025594067.jpeg</td>\n",
              "      <td>COVID19</td>\n",
              "      <td>TRAIN</td>\n",
              "      <td>COVID-19</td>\n",
              "      <td>Virus</td>\n",
              "      <td>/content/gdrive/My Drive/Kaggle/Coronahack-Che...</td>\n",
              "    </tr>\n",
              "    <tr>\n",
              "      <th>5270</th>\n",
              "      <td>5287</td>\n",
              "      <td>23E99E2E-447C-46E5-8EB2-D35D12473C39.png</td>\n",
              "      <td>COVID19</td>\n",
              "      <td>TRAIN</td>\n",
              "      <td>COVID-19</td>\n",
              "      <td>Virus</td>\n",
              "      <td>/content/gdrive/My Drive/Kaggle/Coronahack-Che...</td>\n",
              "    </tr>\n",
              "    <tr>\n",
              "      <th>5271</th>\n",
              "      <td>5289</td>\n",
              "      <td>1B734A89-A1BF-49A8-A1D3-66FAFA4FAC5D.jpeg</td>\n",
              "      <td>COVID19</td>\n",
              "      <td>TRAIN</td>\n",
              "      <td>COVID-19</td>\n",
              "      <td>Virus</td>\n",
              "      <td>/content/gdrive/My Drive/Kaggle/Coronahack-Che...</td>\n",
              "    </tr>\n",
              "    <tr>\n",
              "      <th>5272</th>\n",
              "      <td>5291</td>\n",
              "      <td>171CB377-62FF-4B76-906C-F3787A01CB2E.jpeg</td>\n",
              "      <td>COVID19</td>\n",
              "      <td>TRAIN</td>\n",
              "      <td>COVID-19</td>\n",
              "      <td>Virus</td>\n",
              "      <td>/content/gdrive/My Drive/Kaggle/Coronahack-Che...</td>\n",
              "    </tr>\n",
              "    <tr>\n",
              "      <th>5273</th>\n",
              "      <td>5292</td>\n",
              "      <td>1312A392-67A3-4EBF-9319-810CF6DA5EF6.jpeg</td>\n",
              "      <td>COVID19</td>\n",
              "      <td>TRAIN</td>\n",
              "      <td>COVID-19</td>\n",
              "      <td>Virus</td>\n",
              "      <td>/content/gdrive/My Drive/Kaggle/Coronahack-Che...</td>\n",
              "    </tr>\n",
              "    <tr>\n",
              "      <th>5274</th>\n",
              "      <td>5293</td>\n",
              "      <td>1-s2.0-S1684118220300682-main.pdf-003-b2.png</td>\n",
              "      <td>COVID19</td>\n",
              "      <td>TRAIN</td>\n",
              "      <td>COVID-19</td>\n",
              "      <td>Virus</td>\n",
              "      <td>/content/gdrive/My Drive/Kaggle/Coronahack-Che...</td>\n",
              "    </tr>\n",
              "    <tr>\n",
              "      <th>5275</th>\n",
              "      <td>5294</td>\n",
              "      <td>1-s2.0-S1684118220300682-main.pdf-003-b1.png</td>\n",
              "      <td>COVID19</td>\n",
              "      <td>TRAIN</td>\n",
              "      <td>COVID-19</td>\n",
              "      <td>Virus</td>\n",
              "      <td>/content/gdrive/My Drive/Kaggle/Coronahack-Che...</td>\n",
              "    </tr>\n",
              "    <tr>\n",
              "      <th>5276</th>\n",
              "      <td>5295</td>\n",
              "      <td>1-s2.0-S1684118220300682-main.pdf-002-a2.png</td>\n",
              "      <td>COVID19</td>\n",
              "      <td>TRAIN</td>\n",
              "      <td>COVID-19</td>\n",
              "      <td>Virus</td>\n",
              "      <td>/content/gdrive/My Drive/Kaggle/Coronahack-Che...</td>\n",
              "    </tr>\n",
              "    <tr>\n",
              "      <th>5277</th>\n",
              "      <td>5296</td>\n",
              "      <td>1-s2.0-S1684118220300682-main.pdf-002-a1.png</td>\n",
              "      <td>COVID19</td>\n",
              "      <td>TRAIN</td>\n",
              "      <td>COVID-19</td>\n",
              "      <td>Virus</td>\n",
              "      <td>/content/gdrive/My Drive/Kaggle/Coronahack-Che...</td>\n",
              "    </tr>\n",
              "    <tr>\n",
              "      <th>5278</th>\n",
              "      <td>5297</td>\n",
              "      <td>1-s2.0-S1684118220300608-main.pdf-002.jpg</td>\n",
              "      <td>COVID19</td>\n",
              "      <td>TRAIN</td>\n",
              "      <td>COVID-19</td>\n",
              "      <td>Virus</td>\n",
              "      <td>/content/gdrive/My Drive/Kaggle/Coronahack-Che...</td>\n",
              "    </tr>\n",
              "    <tr>\n",
              "      <th>5279</th>\n",
              "      <td>5298</td>\n",
              "      <td>1-s2.0-S1684118220300608-main.pdf-001.jpg</td>\n",
              "      <td>COVID19</td>\n",
              "      <td>TRAIN</td>\n",
              "      <td>COVID-19</td>\n",
              "      <td>Virus</td>\n",
              "      <td>/content/gdrive/My Drive/Kaggle/Coronahack-Che...</td>\n",
              "    </tr>\n",
              "    <tr>\n",
              "      <th>5280</th>\n",
              "      <td>5303</td>\n",
              "      <td>1-s2.0-S0929664620300449-gr2_lrg-d.jpg</td>\n",
              "      <td>COVID19</td>\n",
              "      <td>TRAIN</td>\n",
              "      <td>COVID-19</td>\n",
              "      <td>Virus</td>\n",
              "      <td>/content/gdrive/My Drive/Kaggle/Coronahack-Che...</td>\n",
              "    </tr>\n",
              "    <tr>\n",
              "      <th>5281</th>\n",
              "      <td>5304</td>\n",
              "      <td>1-s2.0-S0929664620300449-gr2_lrg-c.jpg</td>\n",
              "      <td>COVID19</td>\n",
              "      <td>TRAIN</td>\n",
              "      <td>COVID-19</td>\n",
              "      <td>Virus</td>\n",
              "      <td>/content/gdrive/My Drive/Kaggle/Coronahack-Che...</td>\n",
              "    </tr>\n",
              "    <tr>\n",
              "      <th>5282</th>\n",
              "      <td>5305</td>\n",
              "      <td>1-s2.0-S0929664620300449-gr2_lrg-b.jpg</td>\n",
              "      <td>COVID19</td>\n",
              "      <td>TRAIN</td>\n",
              "      <td>COVID-19</td>\n",
              "      <td>Virus</td>\n",
              "      <td>/content/gdrive/My Drive/Kaggle/Coronahack-Che...</td>\n",
              "    </tr>\n",
              "  </tbody>\n",
              "</table>\n",
              "</div>"
            ],
            "text/plain": [
              "      Unnamed: 0  ...                                       Img_tgt_path\n",
              "5256        5268  ...  /content/gdrive/My Drive/Kaggle/Coronahack-Che...\n",
              "5257        5271  ...  /content/gdrive/My Drive/Kaggle/Coronahack-Che...\n",
              "5258        5272  ...  /content/gdrive/My Drive/Kaggle/Coronahack-Che...\n",
              "5259        5273  ...  /content/gdrive/My Drive/Kaggle/Coronahack-Che...\n",
              "5260        5275  ...  /content/gdrive/My Drive/Kaggle/Coronahack-Che...\n",
              "5261        5276  ...  /content/gdrive/My Drive/Kaggle/Coronahack-Che...\n",
              "5263        5278  ...  /content/gdrive/My Drive/Kaggle/Coronahack-Che...\n",
              "5264        5279  ...  /content/gdrive/My Drive/Kaggle/Coronahack-Che...\n",
              "5266        5283  ...  /content/gdrive/My Drive/Kaggle/Coronahack-Che...\n",
              "5267        5284  ...  /content/gdrive/My Drive/Kaggle/Coronahack-Che...\n",
              "5268        5285  ...  /content/gdrive/My Drive/Kaggle/Coronahack-Che...\n",
              "5269        5286  ...  /content/gdrive/My Drive/Kaggle/Coronahack-Che...\n",
              "5270        5287  ...  /content/gdrive/My Drive/Kaggle/Coronahack-Che...\n",
              "5271        5289  ...  /content/gdrive/My Drive/Kaggle/Coronahack-Che...\n",
              "5272        5291  ...  /content/gdrive/My Drive/Kaggle/Coronahack-Che...\n",
              "5273        5292  ...  /content/gdrive/My Drive/Kaggle/Coronahack-Che...\n",
              "5274        5293  ...  /content/gdrive/My Drive/Kaggle/Coronahack-Che...\n",
              "5275        5294  ...  /content/gdrive/My Drive/Kaggle/Coronahack-Che...\n",
              "5276        5295  ...  /content/gdrive/My Drive/Kaggle/Coronahack-Che...\n",
              "5277        5296  ...  /content/gdrive/My Drive/Kaggle/Coronahack-Che...\n",
              "5278        5297  ...  /content/gdrive/My Drive/Kaggle/Coronahack-Che...\n",
              "5279        5298  ...  /content/gdrive/My Drive/Kaggle/Coronahack-Che...\n",
              "5280        5303  ...  /content/gdrive/My Drive/Kaggle/Coronahack-Che...\n",
              "5281        5304  ...  /content/gdrive/My Drive/Kaggle/Coronahack-Che...\n",
              "5282        5305  ...  /content/gdrive/My Drive/Kaggle/Coronahack-Che...\n",
              "\n",
              "[25 rows x 7 columns]"
            ]
          },
          "metadata": {
            "tags": []
          },
          "execution_count": 20
        }
      ]
    },
    {
      "cell_type": "code",
      "metadata": {
        "id": "JKVK1fZItgeN",
        "colab": {
          "base_uri": "https://localhost:8080/",
          "height": 35
        },
        "outputId": "0f3a97fd-bbb3-4fec-be35-cf88fb66dfaa"
      },
      "source": [
        "meta_COVID_19_train[\"Img_tgt_path\"][0]   "
      ],
      "execution_count": 21,
      "outputs": [
        {
          "output_type": "execute_result",
          "data": {
            "application/vnd.google.colaboratory.intrinsic+json": {
              "type": "string"
            },
            "text/plain": [
              "'/content/gdrive/My Drive/Kaggle/Coronahack-Chest-XRay-Dataset/Coronahack-Chest-XRay-Dataset/train/Normal/'"
            ]
          },
          "metadata": {
            "tags": []
          },
          "execution_count": 21
        }
      ]
    },
    {
      "cell_type": "code",
      "metadata": {
        "id": "eVlsOPr9V6kC",
        "colab": {
          "base_uri": "https://localhost:8080/",
          "height": 786
        },
        "outputId": "81718951-2cb7-428f-d87f-4f603eb5ceef"
      },
      "source": [
        "meta_COVID_19_test_fnl.head(15)\n",
        "\n"
      ],
      "execution_count": 22,
      "outputs": [
        {
          "output_type": "execute_result",
          "data": {
            "text/html": [
              "<div>\n",
              "<style scoped>\n",
              "    .dataframe tbody tr th:only-of-type {\n",
              "        vertical-align: middle;\n",
              "    }\n",
              "\n",
              "    .dataframe tbody tr th {\n",
              "        vertical-align: top;\n",
              "    }\n",
              "\n",
              "    .dataframe thead th {\n",
              "        text-align: right;\n",
              "    }\n",
              "</style>\n",
              "<table border=\"1\" class=\"dataframe\">\n",
              "  <thead>\n",
              "    <tr style=\"text-align: right;\">\n",
              "      <th></th>\n",
              "      <th>Unnamed: 0</th>\n",
              "      <th>X_ray_image_name</th>\n",
              "      <th>Label</th>\n",
              "      <th>Dataset_type</th>\n",
              "      <th>Label_2_Virus_category</th>\n",
              "      <th>Label_1_Virus_category</th>\n",
              "      <th>Img_tgt_path</th>\n",
              "    </tr>\n",
              "  </thead>\n",
              "  <tbody>\n",
              "    <tr>\n",
              "      <th>5245</th>\n",
              "      <td>5256</td>\n",
              "      <td>D5ACAA93-C779-4E22-ADFA-6A220489F840.jpeg</td>\n",
              "      <td>COVID19</td>\n",
              "      <td>TRAIN</td>\n",
              "      <td>COVID-19</td>\n",
              "      <td>Virus</td>\n",
              "      <td>/content/gdrive/My Drive/Kaggle/Coronahack-Che...</td>\n",
              "    </tr>\n",
              "    <tr>\n",
              "      <th>5222</th>\n",
              "      <td>5225</td>\n",
              "      <td>kjr-21-e24-g003-l-a.jpg</td>\n",
              "      <td>COVID19</td>\n",
              "      <td>TRAIN</td>\n",
              "      <td>COVID-19</td>\n",
              "      <td>Virus</td>\n",
              "      <td>/content/gdrive/My Drive/Kaggle/Coronahack-Che...</td>\n",
              "    </tr>\n",
              "    <tr>\n",
              "      <th>5243</th>\n",
              "      <td>5253</td>\n",
              "      <td>E1724330-1866-4581-8CD8-CEC9B8AFEDDE.jpeg</td>\n",
              "      <td>COVID19</td>\n",
              "      <td>TRAIN</td>\n",
              "      <td>COVID-19</td>\n",
              "      <td>Virus</td>\n",
              "      <td>/content/gdrive/My Drive/Kaggle/Coronahack-Che...</td>\n",
              "    </tr>\n",
              "    <tr>\n",
              "      <th>5265</th>\n",
              "      <td>5281</td>\n",
              "      <td>39EE8E69-5801-48DE-B6E3-BE7D1BCF3092.jpeg</td>\n",
              "      <td>COVID19</td>\n",
              "      <td>TRAIN</td>\n",
              "      <td>COVID-19</td>\n",
              "      <td>Virus</td>\n",
              "      <td>/content/gdrive/My Drive/Kaggle/Coronahack-Che...</td>\n",
              "    </tr>\n",
              "    <tr>\n",
              "      <th>5285</th>\n",
              "      <td>5308</td>\n",
              "      <td>01E392EE-69F9-4E33-BFCE-E5C968654078.jpeg</td>\n",
              "      <td>COVID19</td>\n",
              "      <td>TRAIN</td>\n",
              "      <td>COVID-19</td>\n",
              "      <td>Virus</td>\n",
              "      <td>/content/gdrive/My Drive/Kaggle/Coronahack-Che...</td>\n",
              "    </tr>\n",
              "    <tr>\n",
              "      <th>5226</th>\n",
              "      <td>5235</td>\n",
              "      <td>jkms-35-e79-g001-l-b.jpg</td>\n",
              "      <td>COVID19</td>\n",
              "      <td>TRAIN</td>\n",
              "      <td>COVID-19</td>\n",
              "      <td>Virus</td>\n",
              "      <td>/content/gdrive/My Drive/Kaggle/Coronahack-Che...</td>\n",
              "    </tr>\n",
              "    <tr>\n",
              "      <th>5230</th>\n",
              "      <td>5239</td>\n",
              "      <td>all14238-fig-0001-m-b.jpg</td>\n",
              "      <td>COVID19</td>\n",
              "      <td>TRAIN</td>\n",
              "      <td>COVID-19</td>\n",
              "      <td>Virus</td>\n",
              "      <td>/content/gdrive/My Drive/Kaggle/Coronahack-Che...</td>\n",
              "    </tr>\n",
              "    <tr>\n",
              "      <th>5283</th>\n",
              "      <td>5306</td>\n",
              "      <td>1-s2.0-S0929664620300449-gr2_lrg-a.jpg</td>\n",
              "      <td>COVID19</td>\n",
              "      <td>TRAIN</td>\n",
              "      <td>COVID-19</td>\n",
              "      <td>Virus</td>\n",
              "      <td>/content/gdrive/My Drive/Kaggle/Coronahack-Che...</td>\n",
              "    </tr>\n",
              "    <tr>\n",
              "      <th>5244</th>\n",
              "      <td>5255</td>\n",
              "      <td>D7AF463C-2369-492D-908D-BE1911CCD74C.jpeg</td>\n",
              "      <td>COVID19</td>\n",
              "      <td>TRAIN</td>\n",
              "      <td>COVID-19</td>\n",
              "      <td>Virus</td>\n",
              "      <td>/content/gdrive/My Drive/Kaggle/Coronahack-Che...</td>\n",
              "    </tr>\n",
              "    <tr>\n",
              "      <th>5250</th>\n",
              "      <td>5262</td>\n",
              "      <td>80446565-E090-4187-A031-9D3CEAA586C8.jpeg</td>\n",
              "      <td>COVID19</td>\n",
              "      <td>TRAIN</td>\n",
              "      <td>COVID-19</td>\n",
              "      <td>Virus</td>\n",
              "      <td>/content/gdrive/My Drive/Kaggle/Coronahack-Che...</td>\n",
              "    </tr>\n",
              "    <tr>\n",
              "      <th>5284</th>\n",
              "      <td>5307</td>\n",
              "      <td>1-s2.0-S0140673620303706-fx1_lrg.jpg</td>\n",
              "      <td>COVID19</td>\n",
              "      <td>TRAIN</td>\n",
              "      <td>COVID-19</td>\n",
              "      <td>Virus</td>\n",
              "      <td>/content/gdrive/My Drive/Kaggle/Coronahack-Che...</td>\n",
              "    </tr>\n",
              "    <tr>\n",
              "      <th>5262</th>\n",
              "      <td>5277</td>\n",
              "      <td>446B2CB6-B572-40AB-B01F-1910CA07086A.jpeg</td>\n",
              "      <td>COVID19</td>\n",
              "      <td>TRAIN</td>\n",
              "      <td>COVID-19</td>\n",
              "      <td>Virus</td>\n",
              "      <td>/content/gdrive/My Drive/Kaggle/Coronahack-Che...</td>\n",
              "    </tr>\n",
              "    <tr>\n",
              "      <th>5286</th>\n",
              "      <td>5309</td>\n",
              "      <td>IM-0021-0001.jpeg</td>\n",
              "      <td>Normal</td>\n",
              "      <td>TEST</td>\n",
              "      <td>NaN</td>\n",
              "      <td>NaN</td>\n",
              "      <td>/content/gdrive/My Drive/Kaggle/Coronahack-Che...</td>\n",
              "    </tr>\n",
              "    <tr>\n",
              "      <th>5287</th>\n",
              "      <td>5310</td>\n",
              "      <td>IM-0019-0001.jpeg</td>\n",
              "      <td>Normal</td>\n",
              "      <td>TEST</td>\n",
              "      <td>NaN</td>\n",
              "      <td>NaN</td>\n",
              "      <td>/content/gdrive/My Drive/Kaggle/Coronahack-Che...</td>\n",
              "    </tr>\n",
              "    <tr>\n",
              "      <th>5288</th>\n",
              "      <td>5311</td>\n",
              "      <td>IM-0017-0001.jpeg</td>\n",
              "      <td>Normal</td>\n",
              "      <td>TEST</td>\n",
              "      <td>NaN</td>\n",
              "      <td>NaN</td>\n",
              "      <td>/content/gdrive/My Drive/Kaggle/Coronahack-Che...</td>\n",
              "    </tr>\n",
              "  </tbody>\n",
              "</table>\n",
              "</div>"
            ],
            "text/plain": [
              "      Unnamed: 0  ...                                       Img_tgt_path\n",
              "5245        5256  ...  /content/gdrive/My Drive/Kaggle/Coronahack-Che...\n",
              "5222        5225  ...  /content/gdrive/My Drive/Kaggle/Coronahack-Che...\n",
              "5243        5253  ...  /content/gdrive/My Drive/Kaggle/Coronahack-Che...\n",
              "5265        5281  ...  /content/gdrive/My Drive/Kaggle/Coronahack-Che...\n",
              "5285        5308  ...  /content/gdrive/My Drive/Kaggle/Coronahack-Che...\n",
              "5226        5235  ...  /content/gdrive/My Drive/Kaggle/Coronahack-Che...\n",
              "5230        5239  ...  /content/gdrive/My Drive/Kaggle/Coronahack-Che...\n",
              "5283        5306  ...  /content/gdrive/My Drive/Kaggle/Coronahack-Che...\n",
              "5244        5255  ...  /content/gdrive/My Drive/Kaggle/Coronahack-Che...\n",
              "5250        5262  ...  /content/gdrive/My Drive/Kaggle/Coronahack-Che...\n",
              "5284        5307  ...  /content/gdrive/My Drive/Kaggle/Coronahack-Che...\n",
              "5262        5277  ...  /content/gdrive/My Drive/Kaggle/Coronahack-Che...\n",
              "5286        5309  ...  /content/gdrive/My Drive/Kaggle/Coronahack-Che...\n",
              "5287        5310  ...  /content/gdrive/My Drive/Kaggle/Coronahack-Che...\n",
              "5288        5311  ...  /content/gdrive/My Drive/Kaggle/Coronahack-Che...\n",
              "\n",
              "[15 rows x 7 columns]"
            ]
          },
          "metadata": {
            "tags": []
          },
          "execution_count": 22
        }
      ]
    },
    {
      "cell_type": "code",
      "metadata": {
        "id": "8mZZrwwXJnOp",
        "colab": {
          "base_uri": "https://localhost:8080/"
        },
        "outputId": "d4e10bcc-e82c-4d9c-b1ea-ce7586277643"
      },
      "source": [
        "meta_COVID_19_test_fnl[\"Img_tgt_path\"]"
      ],
      "execution_count": 23,
      "outputs": [
        {
          "output_type": "execute_result",
          "data": {
            "text/plain": [
              "5245    /content/gdrive/My Drive/Kaggle/Coronahack-Che...\n",
              "5222    /content/gdrive/My Drive/Kaggle/Coronahack-Che...\n",
              "5243    /content/gdrive/My Drive/Kaggle/Coronahack-Che...\n",
              "5265    /content/gdrive/My Drive/Kaggle/Coronahack-Che...\n",
              "5285    /content/gdrive/My Drive/Kaggle/Coronahack-Che...\n",
              "                              ...                        \n",
              "5515    /content/gdrive/My Drive/Kaggle/Coronahack-Che...\n",
              "5516    /content/gdrive/My Drive/Kaggle/Coronahack-Che...\n",
              "5517    /content/gdrive/My Drive/Kaggle/Coronahack-Che...\n",
              "5518    /content/gdrive/My Drive/Kaggle/Coronahack-Che...\n",
              "5519    /content/gdrive/My Drive/Kaggle/Coronahack-Che...\n",
              "Name: Img_tgt_path, Length: 246, dtype: object"
            ]
          },
          "metadata": {
            "tags": []
          },
          "execution_count": 23
        }
      ]
    },
    {
      "cell_type": "markdown",
      "metadata": {
        "id": "jyKjEXRclXcF"
      },
      "source": [
        ""
      ]
    },
    {
      "cell_type": "code",
      "metadata": {
        "id": "sGO8d7-Pb-Ei",
        "colab": {
          "base_uri": "https://localhost:8080/",
          "height": 1000
        },
        "outputId": "75e94afa-eecb-47c0-d6dc-0d4d8e3fd56a"
      },
      "source": [
        "meta_COVID_19_test_fnl.head(25)"
      ],
      "execution_count": 24,
      "outputs": [
        {
          "output_type": "execute_result",
          "data": {
            "text/html": [
              "<div>\n",
              "<style scoped>\n",
              "    .dataframe tbody tr th:only-of-type {\n",
              "        vertical-align: middle;\n",
              "    }\n",
              "\n",
              "    .dataframe tbody tr th {\n",
              "        vertical-align: top;\n",
              "    }\n",
              "\n",
              "    .dataframe thead th {\n",
              "        text-align: right;\n",
              "    }\n",
              "</style>\n",
              "<table border=\"1\" class=\"dataframe\">\n",
              "  <thead>\n",
              "    <tr style=\"text-align: right;\">\n",
              "      <th></th>\n",
              "      <th>Unnamed: 0</th>\n",
              "      <th>X_ray_image_name</th>\n",
              "      <th>Label</th>\n",
              "      <th>Dataset_type</th>\n",
              "      <th>Label_2_Virus_category</th>\n",
              "      <th>Label_1_Virus_category</th>\n",
              "      <th>Img_tgt_path</th>\n",
              "    </tr>\n",
              "  </thead>\n",
              "  <tbody>\n",
              "    <tr>\n",
              "      <th>5245</th>\n",
              "      <td>5256</td>\n",
              "      <td>D5ACAA93-C779-4E22-ADFA-6A220489F840.jpeg</td>\n",
              "      <td>COVID19</td>\n",
              "      <td>TRAIN</td>\n",
              "      <td>COVID-19</td>\n",
              "      <td>Virus</td>\n",
              "      <td>/content/gdrive/My Drive/Kaggle/Coronahack-Che...</td>\n",
              "    </tr>\n",
              "    <tr>\n",
              "      <th>5222</th>\n",
              "      <td>5225</td>\n",
              "      <td>kjr-21-e24-g003-l-a.jpg</td>\n",
              "      <td>COVID19</td>\n",
              "      <td>TRAIN</td>\n",
              "      <td>COVID-19</td>\n",
              "      <td>Virus</td>\n",
              "      <td>/content/gdrive/My Drive/Kaggle/Coronahack-Che...</td>\n",
              "    </tr>\n",
              "    <tr>\n",
              "      <th>5243</th>\n",
              "      <td>5253</td>\n",
              "      <td>E1724330-1866-4581-8CD8-CEC9B8AFEDDE.jpeg</td>\n",
              "      <td>COVID19</td>\n",
              "      <td>TRAIN</td>\n",
              "      <td>COVID-19</td>\n",
              "      <td>Virus</td>\n",
              "      <td>/content/gdrive/My Drive/Kaggle/Coronahack-Che...</td>\n",
              "    </tr>\n",
              "    <tr>\n",
              "      <th>5265</th>\n",
              "      <td>5281</td>\n",
              "      <td>39EE8E69-5801-48DE-B6E3-BE7D1BCF3092.jpeg</td>\n",
              "      <td>COVID19</td>\n",
              "      <td>TRAIN</td>\n",
              "      <td>COVID-19</td>\n",
              "      <td>Virus</td>\n",
              "      <td>/content/gdrive/My Drive/Kaggle/Coronahack-Che...</td>\n",
              "    </tr>\n",
              "    <tr>\n",
              "      <th>5285</th>\n",
              "      <td>5308</td>\n",
              "      <td>01E392EE-69F9-4E33-BFCE-E5C968654078.jpeg</td>\n",
              "      <td>COVID19</td>\n",
              "      <td>TRAIN</td>\n",
              "      <td>COVID-19</td>\n",
              "      <td>Virus</td>\n",
              "      <td>/content/gdrive/My Drive/Kaggle/Coronahack-Che...</td>\n",
              "    </tr>\n",
              "    <tr>\n",
              "      <th>5226</th>\n",
              "      <td>5235</td>\n",
              "      <td>jkms-35-e79-g001-l-b.jpg</td>\n",
              "      <td>COVID19</td>\n",
              "      <td>TRAIN</td>\n",
              "      <td>COVID-19</td>\n",
              "      <td>Virus</td>\n",
              "      <td>/content/gdrive/My Drive/Kaggle/Coronahack-Che...</td>\n",
              "    </tr>\n",
              "    <tr>\n",
              "      <th>5230</th>\n",
              "      <td>5239</td>\n",
              "      <td>all14238-fig-0001-m-b.jpg</td>\n",
              "      <td>COVID19</td>\n",
              "      <td>TRAIN</td>\n",
              "      <td>COVID-19</td>\n",
              "      <td>Virus</td>\n",
              "      <td>/content/gdrive/My Drive/Kaggle/Coronahack-Che...</td>\n",
              "    </tr>\n",
              "    <tr>\n",
              "      <th>5283</th>\n",
              "      <td>5306</td>\n",
              "      <td>1-s2.0-S0929664620300449-gr2_lrg-a.jpg</td>\n",
              "      <td>COVID19</td>\n",
              "      <td>TRAIN</td>\n",
              "      <td>COVID-19</td>\n",
              "      <td>Virus</td>\n",
              "      <td>/content/gdrive/My Drive/Kaggle/Coronahack-Che...</td>\n",
              "    </tr>\n",
              "    <tr>\n",
              "      <th>5244</th>\n",
              "      <td>5255</td>\n",
              "      <td>D7AF463C-2369-492D-908D-BE1911CCD74C.jpeg</td>\n",
              "      <td>COVID19</td>\n",
              "      <td>TRAIN</td>\n",
              "      <td>COVID-19</td>\n",
              "      <td>Virus</td>\n",
              "      <td>/content/gdrive/My Drive/Kaggle/Coronahack-Che...</td>\n",
              "    </tr>\n",
              "    <tr>\n",
              "      <th>5250</th>\n",
              "      <td>5262</td>\n",
              "      <td>80446565-E090-4187-A031-9D3CEAA586C8.jpeg</td>\n",
              "      <td>COVID19</td>\n",
              "      <td>TRAIN</td>\n",
              "      <td>COVID-19</td>\n",
              "      <td>Virus</td>\n",
              "      <td>/content/gdrive/My Drive/Kaggle/Coronahack-Che...</td>\n",
              "    </tr>\n",
              "    <tr>\n",
              "      <th>5284</th>\n",
              "      <td>5307</td>\n",
              "      <td>1-s2.0-S0140673620303706-fx1_lrg.jpg</td>\n",
              "      <td>COVID19</td>\n",
              "      <td>TRAIN</td>\n",
              "      <td>COVID-19</td>\n",
              "      <td>Virus</td>\n",
              "      <td>/content/gdrive/My Drive/Kaggle/Coronahack-Che...</td>\n",
              "    </tr>\n",
              "    <tr>\n",
              "      <th>5262</th>\n",
              "      <td>5277</td>\n",
              "      <td>446B2CB6-B572-40AB-B01F-1910CA07086A.jpeg</td>\n",
              "      <td>COVID19</td>\n",
              "      <td>TRAIN</td>\n",
              "      <td>COVID-19</td>\n",
              "      <td>Virus</td>\n",
              "      <td>/content/gdrive/My Drive/Kaggle/Coronahack-Che...</td>\n",
              "    </tr>\n",
              "    <tr>\n",
              "      <th>5286</th>\n",
              "      <td>5309</td>\n",
              "      <td>IM-0021-0001.jpeg</td>\n",
              "      <td>Normal</td>\n",
              "      <td>TEST</td>\n",
              "      <td>NaN</td>\n",
              "      <td>NaN</td>\n",
              "      <td>/content/gdrive/My Drive/Kaggle/Coronahack-Che...</td>\n",
              "    </tr>\n",
              "    <tr>\n",
              "      <th>5287</th>\n",
              "      <td>5310</td>\n",
              "      <td>IM-0019-0001.jpeg</td>\n",
              "      <td>Normal</td>\n",
              "      <td>TEST</td>\n",
              "      <td>NaN</td>\n",
              "      <td>NaN</td>\n",
              "      <td>/content/gdrive/My Drive/Kaggle/Coronahack-Che...</td>\n",
              "    </tr>\n",
              "    <tr>\n",
              "      <th>5288</th>\n",
              "      <td>5311</td>\n",
              "      <td>IM-0017-0001.jpeg</td>\n",
              "      <td>Normal</td>\n",
              "      <td>TEST</td>\n",
              "      <td>NaN</td>\n",
              "      <td>NaN</td>\n",
              "      <td>/content/gdrive/My Drive/Kaggle/Coronahack-Che...</td>\n",
              "    </tr>\n",
              "    <tr>\n",
              "      <th>5289</th>\n",
              "      <td>5312</td>\n",
              "      <td>IM-0016-0001.jpeg</td>\n",
              "      <td>Normal</td>\n",
              "      <td>TEST</td>\n",
              "      <td>NaN</td>\n",
              "      <td>NaN</td>\n",
              "      <td>/content/gdrive/My Drive/Kaggle/Coronahack-Che...</td>\n",
              "    </tr>\n",
              "    <tr>\n",
              "      <th>5290</th>\n",
              "      <td>5313</td>\n",
              "      <td>IM-0015-0001.jpeg</td>\n",
              "      <td>Normal</td>\n",
              "      <td>TEST</td>\n",
              "      <td>NaN</td>\n",
              "      <td>NaN</td>\n",
              "      <td>/content/gdrive/My Drive/Kaggle/Coronahack-Che...</td>\n",
              "    </tr>\n",
              "    <tr>\n",
              "      <th>5291</th>\n",
              "      <td>5314</td>\n",
              "      <td>IM-0013-0001.jpeg</td>\n",
              "      <td>Normal</td>\n",
              "      <td>TEST</td>\n",
              "      <td>NaN</td>\n",
              "      <td>NaN</td>\n",
              "      <td>/content/gdrive/My Drive/Kaggle/Coronahack-Che...</td>\n",
              "    </tr>\n",
              "    <tr>\n",
              "      <th>5292</th>\n",
              "      <td>5315</td>\n",
              "      <td>IM-0011-0001.jpeg</td>\n",
              "      <td>Normal</td>\n",
              "      <td>TEST</td>\n",
              "      <td>NaN</td>\n",
              "      <td>NaN</td>\n",
              "      <td>/content/gdrive/My Drive/Kaggle/Coronahack-Che...</td>\n",
              "    </tr>\n",
              "    <tr>\n",
              "      <th>5293</th>\n",
              "      <td>5316</td>\n",
              "      <td>IM-0011-0001-0002.jpeg</td>\n",
              "      <td>Normal</td>\n",
              "      <td>TEST</td>\n",
              "      <td>NaN</td>\n",
              "      <td>NaN</td>\n",
              "      <td>/content/gdrive/My Drive/Kaggle/Coronahack-Che...</td>\n",
              "    </tr>\n",
              "    <tr>\n",
              "      <th>5294</th>\n",
              "      <td>5317</td>\n",
              "      <td>IM-0011-0001-0001.jpeg</td>\n",
              "      <td>Normal</td>\n",
              "      <td>TEST</td>\n",
              "      <td>NaN</td>\n",
              "      <td>NaN</td>\n",
              "      <td>/content/gdrive/My Drive/Kaggle/Coronahack-Che...</td>\n",
              "    </tr>\n",
              "    <tr>\n",
              "      <th>5295</th>\n",
              "      <td>5318</td>\n",
              "      <td>IM-0010-0001.jpeg</td>\n",
              "      <td>Normal</td>\n",
              "      <td>TEST</td>\n",
              "      <td>NaN</td>\n",
              "      <td>NaN</td>\n",
              "      <td>/content/gdrive/My Drive/Kaggle/Coronahack-Che...</td>\n",
              "    </tr>\n",
              "    <tr>\n",
              "      <th>5296</th>\n",
              "      <td>5319</td>\n",
              "      <td>IM-0009-0001.jpeg</td>\n",
              "      <td>Normal</td>\n",
              "      <td>TEST</td>\n",
              "      <td>NaN</td>\n",
              "      <td>NaN</td>\n",
              "      <td>/content/gdrive/My Drive/Kaggle/Coronahack-Che...</td>\n",
              "    </tr>\n",
              "    <tr>\n",
              "      <th>5297</th>\n",
              "      <td>5320</td>\n",
              "      <td>IM-0007-0001.jpeg</td>\n",
              "      <td>Normal</td>\n",
              "      <td>TEST</td>\n",
              "      <td>NaN</td>\n",
              "      <td>NaN</td>\n",
              "      <td>/content/gdrive/My Drive/Kaggle/Coronahack-Che...</td>\n",
              "    </tr>\n",
              "    <tr>\n",
              "      <th>5298</th>\n",
              "      <td>5321</td>\n",
              "      <td>IM-0006-0001.jpeg</td>\n",
              "      <td>Normal</td>\n",
              "      <td>TEST</td>\n",
              "      <td>NaN</td>\n",
              "      <td>NaN</td>\n",
              "      <td>/content/gdrive/My Drive/Kaggle/Coronahack-Che...</td>\n",
              "    </tr>\n",
              "  </tbody>\n",
              "</table>\n",
              "</div>"
            ],
            "text/plain": [
              "      Unnamed: 0  ...                                       Img_tgt_path\n",
              "5245        5256  ...  /content/gdrive/My Drive/Kaggle/Coronahack-Che...\n",
              "5222        5225  ...  /content/gdrive/My Drive/Kaggle/Coronahack-Che...\n",
              "5243        5253  ...  /content/gdrive/My Drive/Kaggle/Coronahack-Che...\n",
              "5265        5281  ...  /content/gdrive/My Drive/Kaggle/Coronahack-Che...\n",
              "5285        5308  ...  /content/gdrive/My Drive/Kaggle/Coronahack-Che...\n",
              "5226        5235  ...  /content/gdrive/My Drive/Kaggle/Coronahack-Che...\n",
              "5230        5239  ...  /content/gdrive/My Drive/Kaggle/Coronahack-Che...\n",
              "5283        5306  ...  /content/gdrive/My Drive/Kaggle/Coronahack-Che...\n",
              "5244        5255  ...  /content/gdrive/My Drive/Kaggle/Coronahack-Che...\n",
              "5250        5262  ...  /content/gdrive/My Drive/Kaggle/Coronahack-Che...\n",
              "5284        5307  ...  /content/gdrive/My Drive/Kaggle/Coronahack-Che...\n",
              "5262        5277  ...  /content/gdrive/My Drive/Kaggle/Coronahack-Che...\n",
              "5286        5309  ...  /content/gdrive/My Drive/Kaggle/Coronahack-Che...\n",
              "5287        5310  ...  /content/gdrive/My Drive/Kaggle/Coronahack-Che...\n",
              "5288        5311  ...  /content/gdrive/My Drive/Kaggle/Coronahack-Che...\n",
              "5289        5312  ...  /content/gdrive/My Drive/Kaggle/Coronahack-Che...\n",
              "5290        5313  ...  /content/gdrive/My Drive/Kaggle/Coronahack-Che...\n",
              "5291        5314  ...  /content/gdrive/My Drive/Kaggle/Coronahack-Che...\n",
              "5292        5315  ...  /content/gdrive/My Drive/Kaggle/Coronahack-Che...\n",
              "5293        5316  ...  /content/gdrive/My Drive/Kaggle/Coronahack-Che...\n",
              "5294        5317  ...  /content/gdrive/My Drive/Kaggle/Coronahack-Che...\n",
              "5295        5318  ...  /content/gdrive/My Drive/Kaggle/Coronahack-Che...\n",
              "5296        5319  ...  /content/gdrive/My Drive/Kaggle/Coronahack-Che...\n",
              "5297        5320  ...  /content/gdrive/My Drive/Kaggle/Coronahack-Che...\n",
              "5298        5321  ...  /content/gdrive/My Drive/Kaggle/Coronahack-Che...\n",
              "\n",
              "[25 rows x 7 columns]"
            ]
          },
          "metadata": {
            "tags": []
          },
          "execution_count": 24
        }
      ]
    },
    {
      "cell_type": "code",
      "metadata": {
        "id": "qu1MzJ67QDcG",
        "colab": {
          "base_uri": "https://localhost:8080/"
        },
        "outputId": "baaa98cd-934d-4ee4-f2af-2692786116bf"
      },
      "source": [
        "import os.path\n",
        "from os import path \n",
        "path.exists(\"/content/gdrive/My Drive/Kaggle/corona_check/test/Normal/IM-0001-0001.jpeg\")"
      ],
      "execution_count": 25,
      "outputs": [
        {
          "output_type": "execute_result",
          "data": {
            "text/plain": [
              "True"
            ]
          },
          "metadata": {
            "tags": []
          },
          "execution_count": 25
        }
      ]
    },
    {
      "cell_type": "code",
      "metadata": {
        "id": "_eF31B9b04-z"
      },
      "source": [
        "train_dir = r'/content/gdrive/My Drive/Kaggle/corona_check/train'\n",
        "test_dir = r'/content/gdrive/My Drive/Kaggle/corona_check/test'\n",
        "\n",
        "\n",
        "image_size = 150\n",
        "\n",
        "nb_classes = 2\n",
        "\n",
        "train_datagen = ImageDataGenerator(rescale = 1/255,\n",
        "                                   rotation_range = 40,\n",
        "                                   width_shift_range = 0.3,   \n",
        "                                   height_shift_range = 0.3,  \n",
        "                                   shear_range = 0.3,    \n",
        "                                   zoom_range = 0.3,     \n",
        "                                   horizontal_flip = True,    \n",
        "                                   fill_mode ='nearest')      \n",
        "                                                         \n",
        "\n",
        "test_datagen = ImageDataGenerator(rescale = 1/255)"
      ],
      "execution_count": 26,
      "outputs": []
    },
    {
      "cell_type": "code",
      "metadata": {
        "id": "sEspPM2M2WsF",
        "colab": {
          "base_uri": "https://localhost:8080/"
        },
        "outputId": "cfc78d55-9f51-40d7-95c1-cf668ffaba55"
      },
      "source": [
        "print(test_dir)\n",
        "batch_size = 50"
      ],
      "execution_count": 27,
      "outputs": [
        {
          "output_type": "stream",
          "text": [
            "/content/gdrive/My Drive/Kaggle/corona_check/test\n"
          ],
          "name": "stdout"
        }
      ]
    },
    {
      "cell_type": "code",
      "metadata": {
        "id": "6CFLYF1Y2axE",
        "colab": {
          "base_uri": "https://localhost:8080/"
        },
        "outputId": "4f27224f-b79b-4435-9b03-99c1df9d50e9"
      },
      "source": [
        "print(\"traning set: \")\n",
        "\n",
        "\n",
        "train_datagen = train_datagen.flow_from_directory(train_dir,              \n",
        "                                               (image_size, image_size),  \n",
        "                                               batch_size= batch_size,    \n",
        "                                               class_mode='categorical')  \n",
        "print(\"testing set: \")\n",
        "\n",
        "test_datagen = test_datagen.flow_from_directory(test_dir,\n",
        "                                             (image_size,image_size),\n",
        "                                              batch_size = batch_size,\n",
        "                                              class_mode='categorical')\n",
        "\n",
        "\n",
        "\n",
        "train_steps = train_datagen.samples//batch_size \n",
        "test_steps = test_datagen.samples//batch_size"
      ],
      "execution_count": 28,
      "outputs": [
        {
          "output_type": "stream",
          "text": [
            "traning set: \n",
            "Found 1387 images belonging to 3 classes.\n",
            "testing set: \n",
            "Found 246 images belonging to 3 classes.\n"
          ],
          "name": "stdout"
        }
      ]
    },
    {
      "cell_type": "code",
      "metadata": {
        "id": "OFBH5Lti2jLS",
        "colab": {
          "base_uri": "https://localhost:8080/"
        },
        "outputId": "7cf819ae-075d-475a-d0d7-95afe82b81e0"
      },
      "source": [
        "if K.image_data_format()=='channels_first':  \n",
        "   input_shape =(2,image_size,image_size)\n",
        "else:\n",
        "   input_shape =(image_size,image_size,3)   \n",
        "   \n",
        "img_input = layers.Input(shape=input_shape)\n",
        "\n",
        "\n",
        "x = layers.Conv2D(32,3,activation='relu')(img_input)\n",
        "x = layers.MaxPooling2D(2)(x)\n",
        "\n",
        "x = layers.Conv2D(64,3,activation='relu')(x)\n",
        "x = layers.MaxPooling2D(2)(x)\n",
        "\n",
        "x = layers.Flatten()(x)\n",
        "\n",
        "x = layers.Dense(64,activation='sigmoid')(x)\n",
        "x = layers.Dropout(0.5)(x)  \n",
        "x = layers.Dense(32,activation='sigmoid')(x)\n",
        "x = layers.Dropout(0.3)(x)                    \n",
        "\n",
        "output = layers.Dense(3,activation='softmax')(x)\n",
        "\n",
        "model= Model(img_input,output)\n",
        "\n",
        "model.summary()\n",
        "\n",
        "\n",
        "model.compile(optimizer='adam', loss='categorical_crossentropy', metrics=['accuracy'])\n",
        "\n",
        "      "
      ],
      "execution_count": 29,
      "outputs": [
        {
          "output_type": "stream",
          "text": [
            "Model: \"functional_1\"\n",
            "_________________________________________________________________\n",
            "Layer (type)                 Output Shape              Param #   \n",
            "=================================================================\n",
            "input_1 (InputLayer)         [(None, 150, 150, 3)]     0         \n",
            "_________________________________________________________________\n",
            "conv2d (Conv2D)              (None, 148, 148, 32)      896       \n",
            "_________________________________________________________________\n",
            "max_pooling2d (MaxPooling2D) (None, 74, 74, 32)        0         \n",
            "_________________________________________________________________\n",
            "conv2d_1 (Conv2D)            (None, 72, 72, 64)        18496     \n",
            "_________________________________________________________________\n",
            "max_pooling2d_1 (MaxPooling2 (None, 36, 36, 64)        0         \n",
            "_________________________________________________________________\n",
            "flatten (Flatten)            (None, 82944)             0         \n",
            "_________________________________________________________________\n",
            "dense (Dense)                (None, 64)                5308480   \n",
            "_________________________________________________________________\n",
            "dropout (Dropout)            (None, 64)                0         \n",
            "_________________________________________________________________\n",
            "dense_1 (Dense)              (None, 32)                2080      \n",
            "_________________________________________________________________\n",
            "dropout_1 (Dropout)          (None, 32)                0         \n",
            "_________________________________________________________________\n",
            "dense_2 (Dense)              (None, 3)                 99        \n",
            "=================================================================\n",
            "Total params: 5,330,051\n",
            "Trainable params: 5,330,051\n",
            "Non-trainable params: 0\n",
            "_________________________________________________________________\n"
          ],
          "name": "stdout"
        }
      ]
    },
    {
      "cell_type": "code",
      "metadata": {
        "id": "-2AZVwlyEVH8",
        "colab": {
          "base_uri": "https://localhost:8080/"
        },
        "outputId": "5ac34158-8344-418f-ea0d-763247e16563"
      },
      "source": [
        "history = model.fit_generator(train_datagen,\n",
        "                             steps_per_epoch=train_steps,\n",
        "                             epochs = 5,\n",
        "                             validation_data=test_datagen,\n",
        "                             validation_steps= test_steps )"
      ],
      "execution_count": 30,
      "outputs": [
        {
          "output_type": "stream",
          "text": [
            "WARNING:tensorflow:From <ipython-input-30-94580ccaeae5>:5: Model.fit_generator (from tensorflow.python.keras.engine.training) is deprecated and will be removed in a future version.\n",
            "Instructions for updating:\n",
            "Please use Model.fit, which supports generators.\n",
            "Epoch 1/5\n",
            "27/27 [==============================] - 450s 17s/step - loss: 0.3664 - accuracy: 0.9372 - val_loss: 0.2613 - val_accuracy: 0.9500\n",
            "Epoch 2/5\n",
            "27/27 [==============================] - 75s 3s/step - loss: 0.2312 - accuracy: 0.9656 - val_loss: 0.2591 - val_accuracy: 0.9450\n",
            "Epoch 3/5\n",
            "27/27 [==============================] - 74s 3s/step - loss: 0.1939 - accuracy: 0.9663 - val_loss: 0.2116 - val_accuracy: 0.9550\n",
            "Epoch 4/5\n",
            "27/27 [==============================] - 74s 3s/step - loss: 0.1823 - accuracy: 0.9656 - val_loss: 0.2680 - val_accuracy: 0.9400\n",
            "Epoch 5/5\n",
            "27/27 [==============================] - 75s 3s/step - loss: 0.1740 - accuracy: 0.9671 - val_loss: 0.2431 - val_accuracy: 0.9450\n"
          ],
          "name": "stdout"
        }
      ]
    },
    {
      "cell_type": "code",
      "metadata": {
        "id": "rzxzmhl-Hzv_"
      },
      "source": [
        "model.save('model.h5')"
      ],
      "execution_count": 31,
      "outputs": []
    },
    {
      "cell_type": "code",
      "metadata": {
        "id": "ainytIiAnmIa",
        "colab": {
          "base_uri": "https://localhost:8080/"
        },
        "outputId": "62193a84-a513-41b7-8c61-bf5742901a46"
      },
      "source": [
        "new_model = tf.keras.models.load_model('model.h5',compile= False)\n",
        "converter = tf.lite.TFLiteConverter.from_keras_model(new_model)\n",
        "tflite_model = converter.convert()\n"
      ],
      "execution_count": 32,
      "outputs": [
        {
          "output_type": "stream",
          "text": [
            "WARNING:tensorflow:From /usr/local/lib/python3.6/dist-packages/tensorflow/python/training/tracking/tracking.py:111: Model.state_updates (from tensorflow.python.keras.engine.training) is deprecated and will be removed in a future version.\n",
            "Instructions for updating:\n",
            "This property should not be used in TensorFlow 2.0, as updates are applied automatically.\n",
            "WARNING:tensorflow:From /usr/local/lib/python3.6/dist-packages/tensorflow/python/training/tracking/tracking.py:111: Layer.updates (from tensorflow.python.keras.engine.base_layer) is deprecated and will be removed in a future version.\n",
            "Instructions for updating:\n",
            "This property should not be used in TensorFlow 2.0, as updates are applied automatically.\n",
            "INFO:tensorflow:Assets written to: /tmp/tmpqsqd8ar1/assets\n"
          ],
          "name": "stdout"
        }
      ]
    },
    {
      "cell_type": "code",
      "metadata": {
        "id": "2F-GzodWqHFH"
      },
      "source": [
        "with tf.io.gfile.GFile('model.tflite', 'wb') as f:\n",
        "  f.write(tflite_model)"
      ],
      "execution_count": 33,
      "outputs": []
    },
    {
      "cell_type": "code",
      "metadata": {
        "id": "KZrxiYqmqnUu",
        "colab": {
          "base_uri": "https://localhost:8080/",
          "height": 573
        },
        "outputId": "4b2d1661-e7a1-40f5-dad4-12540bc1d7ff"
      },
      "source": [
        "epochs = 5\n",
        "\n",
        "acc = history.history['accuracy']\n",
        "val_acc = history.history['val_accuracy']\n",
        "loss = history.history['loss']\n",
        "val_loss = history.history['val_loss']\n",
        "epochs_range = range(1, epochs + 1)\n",
        "\n",
        "plt.figure(figsize=(8,4))\n",
        "plt.plot(epochs_range, acc, label='Train Set')\n",
        "plt.plot(epochs_range, val_acc, label='Test Set')\n",
        "plt.legend(loc=\"best\")\n",
        "plt.xlabel('Epochs')\n",
        "plt.title('Model Accuracy')\n",
        "plt.show()\n",
        "\n",
        "plt.figure(figsize=(8,4))\n",
        "plt.plot(epochs_range, loss, label='Train Set')\n",
        "plt.plot(epochs_range, val_loss, label='Test Set')\n",
        "plt.legend(loc=\"best\")\n",
        "plt.xlabel('Epochs')\n",
        "plt.title('Model Loss')\n",
        "plt.show()"
      ],
      "execution_count": 34,
      "outputs": [
        {
          "output_type": "display_data",
          "data": {
            "image/png": "[encoded data removed]",
            "text/plain": [
              "<Figure size 576x288 with 1 Axes>"
            ]
          },
          "metadata": {
            "tags": [],
            "needs_background": "light"
          }
        },
        {
          "output_type": "display_data",
          "data": {
            "image/png": "[encoded data removed]",
            "text/plain": [
              "<Figure size 576x288 with 1 Axes>"
            ]
          },
          "metadata": {
            "tags": [],
            "needs_background": "light"
          }
        }
      ]
    },
    {
      "cell_type": "code",
      "metadata": {
        "id": "xDvwJ5yZtMjC",
        "colab": {
          "base_uri": "https://localhost:8080/"
        },
        "outputId": "e170161c-806f-4e34-f969-4591530d72a5"
      },
      "source": [
        "Y_pred = model.predict(test_datagen,test_steps+1)\n",
        "y_pred = np.argmax(Y_pred,axis=1)\n",
        "\n",
        "CM =confusion_matrix(test_datagen.classes,y_pred)\n",
        "print(\"Confusion Matrix :\")\n",
        "print(CM)\n",
        "\n",
        "pneumonia_precision= CM[1][1] / (CM[1][0]+CM[1][1])\n",
        "print(\"pnuemonia_precision:\", pneumonia_precision)\n",
        "\n",
        "pnuemonia_recall = CM[1][1] / (CM[1][1]+CM[0][1])\n",
        "print('pnuemonia_recall   :', pnuemonia_recall)\n",
        "\n",
        "accuracy = (CM[0][0]+CM[1][1])/(CM[0][0]+CM[0][1]+CM[1][0]+CM[1][1])\n",
        "print('Accuracy           :', accuracy)\n",
        "\n",
        "target_names = ['Normal', 'COVID19'] \n",
        "print(classification_report(test_datagen.classes, y_pred, target_names=target_names))"
      ],
      "execution_count": 35,
      "outputs": [
        {
          "output_type": "stream",
          "text": [
            "Confusion Matrix :\n",
            "[[  0  12]\n",
            " [  0 234]]\n",
            "pnuemonia_precision: 1.0\n",
            "pnuemonia_recall   : 0.9512195121951219\n",
            "Accuracy           : 0.9512195121951219\n",
            "              precision    recall  f1-score   support\n",
            "\n",
            "      Normal       0.00      0.00      0.00        12\n",
            "     COVID19       0.95      1.00      0.97       234\n",
            "\n",
            "    accuracy                           0.95       246\n",
            "   macro avg       0.48      0.50      0.49       246\n",
            "weighted avg       0.90      0.95      0.93       246\n",
            "\n"
          ],
          "name": "stdout"
        },
        {
          "output_type": "stream",
          "text": [
            "/usr/local/lib/python3.6/dist-packages/sklearn/metrics/_classification.py:1272: UndefinedMetricWarning: Precision and F-score are ill-defined and being set to 0.0 in labels with no predicted samples. Use `zero_division` parameter to control this behavior.\n",
            "  _warn_prf(average, modifier, msg_start, len(result))\n"
          ],
          "name": "stderr"
        }
      ]
    },
    {
      "cell_type": "code",
      "metadata": {
        "id": "sQsdQqF2fglp"
      },
      "source": [
        ""
      ],
      "execution_count": 35,
      "outputs": []
    }
  ]
}